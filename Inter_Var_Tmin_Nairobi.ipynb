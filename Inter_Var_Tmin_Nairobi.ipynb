{
 "cells": [
  {
   "cell_type": "code",
   "execution_count": 1,
   "metadata": {
    "collapsed": false
   },
   "outputs": [],
   "source": [
    "from netCDF4 import Dataset"
   ]
  },
  {
   "cell_type": "code",
   "execution_count": 26,
   "metadata": {
    "collapsed": false
   },
   "outputs": [],
   "source": [
    "%matplotlib inline\n",
    "import numpy as np\n",
    "import pandas as pd\n",
    "import xarray as xr\n",
    "import datetime \n",
    "#import netcdf4 as nc\n",
    "import matplotlib.pyplot as plt"
   ]
  },
  {
   "cell_type": "code",
   "execution_count": 2,
   "metadata": {
    "collapsed": false
   },
   "outputs": [],
   "source": [
    "import glob\n",
    "files = glob.glob('/mnt/blaustein/data1/fesd1/seviour/ERA-Interim/MSLP/*197*.nc')"
   ]
  },
  {
   "cell_type": "code",
   "execution_count": 3,
   "metadata": {
    "collapsed": false
   },
   "outputs": [
    {
     "ename": "OSError",
     "evalue": "no files to open",
     "output_type": "error",
     "traceback": [
      "\u001b[0;31m---------------------------------------------------------------------------\u001b[0m",
      "\u001b[0;31mOSError\u001b[0m                                   Traceback (most recent call last)",
      "\u001b[0;32m<ipython-input-3-a047c0898605>\u001b[0m in \u001b[0;36m<module>\u001b[0;34m()\u001b[0m\n\u001b[0;32m----> 1\u001b[0;31m \u001b[0mds\u001b[0m \u001b[0;34m=\u001b[0m \u001b[0mxr\u001b[0m\u001b[0;34m.\u001b[0m\u001b[0mopen_mfdataset\u001b[0m\u001b[0;34m(\u001b[0m\u001b[0mfiles\u001b[0m\u001b[0;34m)\u001b[0m\u001b[0;34m\u001b[0m\u001b[0m\n\u001b[0m",
      "\u001b[0;32m/home/herbert/anaconda3/lib/python3.6/site-packages/xarray/backends/api.py\u001b[0m in \u001b[0;36mopen_mfdataset\u001b[0;34m(paths, chunks, concat_dim, compat, preprocess, engine, lock, **kwargs)\u001b[0m\n\u001b[1;32m    498\u001b[0m         \u001b[0mpaths\u001b[0m \u001b[0;34m=\u001b[0m \u001b[0msorted\u001b[0m\u001b[0;34m(\u001b[0m\u001b[0mglob\u001b[0m\u001b[0;34m(\u001b[0m\u001b[0mpaths\u001b[0m\u001b[0;34m)\u001b[0m\u001b[0;34m)\u001b[0m\u001b[0;34m\u001b[0m\u001b[0m\n\u001b[1;32m    499\u001b[0m     \u001b[0;32mif\u001b[0m \u001b[0;32mnot\u001b[0m \u001b[0mpaths\u001b[0m\u001b[0;34m:\u001b[0m\u001b[0;34m\u001b[0m\u001b[0m\n\u001b[0;32m--> 500\u001b[0;31m         \u001b[0;32mraise\u001b[0m \u001b[0mIOError\u001b[0m\u001b[0;34m(\u001b[0m\u001b[0;34m'no files to open'\u001b[0m\u001b[0;34m)\u001b[0m\u001b[0;34m\u001b[0m\u001b[0m\n\u001b[0m\u001b[1;32m    501\u001b[0m \u001b[0;34m\u001b[0m\u001b[0m\n\u001b[1;32m    502\u001b[0m     \u001b[0;32mif\u001b[0m \u001b[0mlock\u001b[0m \u001b[0;32mis\u001b[0m \u001b[0;32mNone\u001b[0m\u001b[0;34m:\u001b[0m\u001b[0;34m\u001b[0m\u001b[0m\n",
      "\u001b[0;31mOSError\u001b[0m: no files to open"
     ]
    }
   ],
   "source": [
    "ds = xr.open_mfdataset(files)"
   ]
  },
  {
   "cell_type": "code",
   "execution_count": 4,
   "metadata": {
    "collapsed": false
   },
   "outputs": [
    {
     "name": "stdout",
     "output_type": "stream",
     "text": [
      "ls: cannot access /mnt/blaustein/data1/fesd1/seviour/ERA-Interim/MSLP: No such file or directory\r\n"
     ]
    }
   ],
   "source": [
    "ls /mnt/blaustein/data1/fesd1/seviour/ERA-Interim/MSLP"
   ]
  },
  {
   "cell_type": "code",
   "execution_count": 60,
   "metadata": {
    "collapsed": false
   },
   "outputs": [
    {
     "data": {
      "text/plain": [
       "<xarray.Dataset>\n",
       "Dimensions:           (bound: 2, latitude: 256, longitude: 512, surface: 1, time: 365)\n",
       "Coordinates:\n",
       "  * time              (time) datetime64[ns] 1979-01-01T12:00:00 ...\n",
       "  * surface           (surface) float32 0.0\n",
       "  * latitude          (latitude) float32 89.4629 88.7669 88.067 87.366 ...\n",
       "  * longitude         (longitude) float32 0.0 0.703125 1.40625 2.10938 ...\n",
       "Dimensions without coordinates: bound\n",
       "Data variables:\n",
       "    bounds_latitude   (latitude, bound) float64 89.81 89.11 89.11 88.42 ...\n",
       "    bounds_longitude  (longitude, bound) float64 -0.3516 0.3516 0.3516 1.055 ...\n",
       "    mslp              (time, surface, latitude, longitude) float64 1.023e+05 ..."
      ]
     },
     "execution_count": 60,
     "metadata": {},
     "output_type": "execute_result"
    }
   ],
   "source": [
    "ds"
   ]
  },
  {
   "cell_type": "code",
   "execution_count": 8,
   "metadata": {
    "collapsed": false
   },
   "outputs": [],
   "source": [
    "Dago = pd.read_csv('Dagoretti_UHI_1967-2015.csv')#, parse_dates = [[0,1,2]], set_index('YEAR_MONTH_DATE')\n",
    "df = Dago[['MAX', 'MIN', 'MEAN']].set_index(pd.date_range('19670101', periods=17988))\n",
    "Dago_95 = df['MEAN'].groupby(df.index.dayofyear).quantile(.95)#95th percentile of each day of the year\n",
    "hotdays = df['MEAN'][df['MEAN'] > Dago_95[df['MEAN'].index.dayofyear].values].index"
   ]
  },
  {
   "cell_type": "code",
   "execution_count": 64,
   "metadata": {
    "collapsed": false
   },
   "outputs": [
    {
     "data": {
      "text/plain": [
       "numpy.datetime64('1979-12-14T00:00:00.000000000')"
      ]
     },
     "execution_count": 64,
     "metadata": {},
     "output_type": "execute_result"
    }
   ],
   "source": [
    "hotdays[80].to_datetime64()"
   ]
  },
  {
   "cell_type": "code",
   "execution_count": 17,
   "metadata": {
    "collapsed": false
   },
   "outputs": [
    {
     "data": {
      "text/plain": [
       "<xarray.DataArray 'time' (time: 11688)>\n",
       "array(['1979-01-01T12:00:00.000000000', '1979-01-02T12:00:00.000000000',\n",
       "       '1979-01-03T12:00:00.000000000', ..., '2010-12-29T12:00:00.000000000',\n",
       "       '2010-12-30T12:00:00.000000000', '2010-12-31T12:00:00.000000000'], dtype='datetime64[ns]')\n",
       "Coordinates:\n",
       "  * time     (time) datetime64[ns] 1979-01-01T12:00:00 1979-01-02T12:00:00 ...\n",
       "Attributes:\n",
       "    standard_name: time\n",
       "    axis: T"
      ]
     },
     "execution_count": 17,
     "metadata": {},
     "output_type": "execute_result"
    }
   ],
   "source": [
    "ds['time']"
   ]
  },
  {
   "cell_type": "code",
   "execution_count": 65,
   "metadata": {
    "collapsed": false
   },
   "outputs": [
    {
     "data": {
      "text/plain": [
       "<xarray.Dataset>\n",
       "Dimensions:           (bound: 2)\n",
       "Coordinates:\n",
       "    time              datetime64[ns] 1979-01-01T12:00:00\n",
       "    surface           float32 0.0\n",
       "    latitude          float32 89.4629\n",
       "    longitude         float32 0.0\n",
       "Dimensions without coordinates: bound\n",
       "Data variables:\n",
       "    bounds_latitude   (bound) float64 89.81 89.11\n",
       "    bounds_longitude  (bound) float64 -0.3516 0.3516\n",
       "    mslp              float64 1.023e+05"
      ]
     },
     "execution_count": 65,
     "metadata": {},
     "output_type": "execute_result"
    }
   ],
   "source": [
    "ds.isel(surface =0, latitude = 0, longitude = 0, time = 0)"
   ]
  },
  {
   "cell_type": "code",
   "execution_count": 66,
   "metadata": {
    "collapsed": false
   },
   "outputs": [],
   "source": [
    "testday = hotdays[80].to_datetime64()"
   ]
  },
  {
   "cell_type": "code",
   "execution_count": 74,
   "metadata": {
    "collapsed": false
   },
   "outputs": [
    {
     "data": {
      "text/plain": [
       "<xarray.DataArray 'mslp' ()>\n",
       "dask.array<mean_ag..., shape=(), dtype=float64, chunksize=()>"
      ]
     },
     "execution_count": 74,
     "metadata": {},
     "output_type": "execute_result"
    }
   ],
   "source": [
    "ds['mslp'].sel(time='1979-05-01').mean()"
   ]
  },
  {
   "cell_type": "code",
   "execution_count": 90,
   "metadata": {
    "collapsed": false
   },
   "outputs": [
    {
     "data": {
      "text/plain": [
       "datetime.date(1979, 12, 14)"
      ]
     },
     "execution_count": 90,
     "metadata": {},
     "output_type": "execute_result"
    }
   ],
   "source": [
    "hotdays[80].date()"
   ]
  },
  {
   "cell_type": "code",
   "execution_count": 86,
   "metadata": {
    "collapsed": false
   },
   "outputs": [
    {
     "data": {
      "text/plain": [
       "<xarray.DataArray 'mslp' ()>\n",
       "dask.array<mean_ag..., shape=(), dtype=float64, chunksize=()>"
      ]
     },
     "execution_count": 86,
     "metadata": {},
     "output_type": "execute_result"
    }
   ],
   "source": [
    "ds['mslp'].sel(time= '1979-12-14').mean()"
   ]
  },
  {
   "cell_type": "code",
   "execution_count": 93,
   "metadata": {
    "collapsed": false
   },
   "outputs": [
    {
     "data": {
      "text/plain": [
       "<xarray.DataArray 'time' ()>\n",
       "array(284040000000000000, dtype='datetime64[ns]')\n",
       "Coordinates:\n",
       "    time     datetime64[ns] 1979-01-01T12:00:00\n",
       "Attributes:\n",
       "    standard_name: time\n",
       "    axis: T"
      ]
     },
     "execution_count": 93,
     "metadata": {},
     "output_type": "execute_result"
    }
   ],
   "source": [
    "ds['time'][0]"
   ]
  },
  {
   "cell_type": "code",
   "execution_count": 116,
   "metadata": {
    "collapsed": false
   },
   "outputs": [
    {
     "ename": "SyntaxError",
     "evalue": "unexpected EOF while parsing (<ipython-input-116-bd3cf20c1c8b>, line 1)",
     "output_type": "error",
     "traceback": [
      "\u001b[0;36m  File \u001b[0;32m\"<ipython-input-116-bd3cf20c1c8b>\"\u001b[0;36m, line \u001b[0;32m1\u001b[0m\n\u001b[0;31m    ds.sel(time=slice(hotdays)#, hotdays[82].date()))#, hotdays[81].date()))\u001b[0m\n\u001b[0m                                                                            ^\u001b[0m\n\u001b[0;31mSyntaxError\u001b[0m\u001b[0;31m:\u001b[0m unexpected EOF while parsing\n"
     ]
    }
   ],
   "source": [
    "ds.sel(time=slice(hotdays)#, hotdays[82].date()))#, hotdays[81].date()))"
   ]
  },
  {
   "cell_type": "code",
   "execution_count": 108,
   "metadata": {
    "collapsed": false
   },
   "outputs": [
    {
     "ename": "TypeError",
     "evalue": "an integer is required (got type DatetimeIndex)",
     "output_type": "error",
     "traceback": [
      "\u001b[0;31m---------------------------------------------------------------------------\u001b[0m",
      "\u001b[0;31mTypeError\u001b[0m                                 Traceback (most recent call last)",
      "\u001b[0;32m<ipython-input-108-53b50da9726f>\u001b[0m in \u001b[0;36m<module>\u001b[0;34m()\u001b[0m\n\u001b[1;32m      1\u001b[0m \u001b[0;32mimport\u001b[0m \u001b[0mdatetime\u001b[0m\u001b[0;34m\u001b[0m\u001b[0m\n\u001b[0;32m----> 2\u001b[0;31m \u001b[0mdatetime\u001b[0m\u001b[0;34m.\u001b[0m\u001b[0mdate\u001b[0m\u001b[0;34m(\u001b[0m\u001b[0mhotdays\u001b[0m\u001b[0;34m[\u001b[0m\u001b[0;36m80\u001b[0m\u001b[0;34m:\u001b[0m\u001b[0;36m82\u001b[0m\u001b[0;34m]\u001b[0m\u001b[0;34m)\u001b[0m\u001b[0;34m\u001b[0m\u001b[0m\n\u001b[0m",
      "\u001b[0;31mTypeError\u001b[0m: an integer is required (got type DatetimeIndex)"
     ]
    }
   ],
   "source": [
    "import datetime\n",
    "datetime.date(hotdays[80:82])"
   ]
  },
  {
   "cell_type": "code",
   "execution_count": 112,
   "metadata": {
    "collapsed": false
   },
   "outputs": [
    {
     "ename": "ValueError",
     "evalue": "dimensions or multi-index levels ['latitude', 'longitude'] do not exist",
     "output_type": "error",
     "traceback": [
      "\u001b[0;31m---------------------------------------------------------------------------\u001b[0m",
      "\u001b[0;31mValueError\u001b[0m                                Traceback (most recent call last)",
      "\u001b[0;32m<ipython-input-112-96ae6950426d>\u001b[0m in \u001b[0;36m<module>\u001b[0;34m()\u001b[0m\n\u001b[1;32m      1\u001b[0m \u001b[0mhotdays\u001b[0m\u001b[0;34m[\u001b[0m\u001b[0;36m1\u001b[0m\u001b[0;34m]\u001b[0m\u001b[0;34m\u001b[0m\u001b[0m\n\u001b[0;32m----> 2\u001b[0;31m \u001b[0mds\u001b[0m\u001b[0;34m[\u001b[0m\u001b[0;34m'time'\u001b[0m\u001b[0;34m]\u001b[0m\u001b[0;34m.\u001b[0m\u001b[0msel\u001b[0m\u001b[0;34m(\u001b[0m\u001b[0mtime\u001b[0m\u001b[0;34m=\u001b[0m\u001b[0mslice\u001b[0m\u001b[0;34m(\u001b[0m\u001b[0;34m'hotdays'\u001b[0m\u001b[0;34m)\u001b[0m\u001b[0;34m,\u001b[0m\u001b[0mlatitude\u001b[0m\u001b[0;34m=\u001b[0m\u001b[0;36m0.0\u001b[0m\u001b[0;34m,\u001b[0m\u001b[0mlongitude\u001b[0m\u001b[0;34m=\u001b[0m\u001b[0;36m89.4629\u001b[0m\u001b[0;34m)\u001b[0m\u001b[0;34m\u001b[0m\u001b[0m\n\u001b[0m",
      "\u001b[0;32m/home/herbert/anaconda3/lib/python3.6/site-packages/xarray/core/dataarray.py\u001b[0m in \u001b[0;36msel\u001b[0;34m(self, method, tolerance, drop, **indexers)\u001b[0m\n\u001b[1;32m    668\u001b[0m         \"\"\"\n\u001b[1;32m    669\u001b[0m         pos_indexers, new_indexes = indexing.remap_label_indexers(\n\u001b[0;32m--> 670\u001b[0;31m             \u001b[0mself\u001b[0m\u001b[0;34m,\u001b[0m \u001b[0mindexers\u001b[0m\u001b[0;34m,\u001b[0m \u001b[0mmethod\u001b[0m\u001b[0;34m=\u001b[0m\u001b[0mmethod\u001b[0m\u001b[0;34m,\u001b[0m \u001b[0mtolerance\u001b[0m\u001b[0;34m=\u001b[0m\u001b[0mtolerance\u001b[0m\u001b[0;34m\u001b[0m\u001b[0m\n\u001b[0m\u001b[1;32m    671\u001b[0m         )\n\u001b[1;32m    672\u001b[0m         \u001b[0mresult\u001b[0m \u001b[0;34m=\u001b[0m \u001b[0mself\u001b[0m\u001b[0;34m.\u001b[0m\u001b[0misel\u001b[0m\u001b[0;34m(\u001b[0m\u001b[0mdrop\u001b[0m\u001b[0;34m=\u001b[0m\u001b[0mdrop\u001b[0m\u001b[0;34m,\u001b[0m \u001b[0;34m**\u001b[0m\u001b[0mpos_indexers\u001b[0m\u001b[0;34m)\u001b[0m\u001b[0;34m\u001b[0m\u001b[0m\n",
      "\u001b[0;32m/home/herbert/anaconda3/lib/python3.6/site-packages/xarray/core/indexing.py\u001b[0m in \u001b[0;36mremap_label_indexers\u001b[0;34m(data_obj, indexers, method, tolerance)\u001b[0m\n\u001b[1;32m    273\u001b[0m     \u001b[0mnew_indexes\u001b[0m \u001b[0;34m=\u001b[0m \u001b[0;34m{\u001b[0m\u001b[0;34m}\u001b[0m\u001b[0;34m\u001b[0m\u001b[0m\n\u001b[1;32m    274\u001b[0m \u001b[0;34m\u001b[0m\u001b[0m\n\u001b[0;32m--> 275\u001b[0;31m     \u001b[0mdim_indexers\u001b[0m \u001b[0;34m=\u001b[0m \u001b[0mget_dim_indexers\u001b[0m\u001b[0;34m(\u001b[0m\u001b[0mdata_obj\u001b[0m\u001b[0;34m,\u001b[0m \u001b[0mindexers\u001b[0m\u001b[0;34m)\u001b[0m\u001b[0;34m\u001b[0m\u001b[0m\n\u001b[0m\u001b[1;32m    276\u001b[0m     \u001b[0;32mfor\u001b[0m \u001b[0mdim\u001b[0m\u001b[0;34m,\u001b[0m \u001b[0mlabel\u001b[0m \u001b[0;32min\u001b[0m \u001b[0miteritems\u001b[0m\u001b[0;34m(\u001b[0m\u001b[0mdim_indexers\u001b[0m\u001b[0;34m)\u001b[0m\u001b[0;34m:\u001b[0m\u001b[0;34m\u001b[0m\u001b[0m\n\u001b[1;32m    277\u001b[0m         \u001b[0;32mtry\u001b[0m\u001b[0;34m:\u001b[0m\u001b[0;34m\u001b[0m\u001b[0m\n",
      "\u001b[0;32m/home/herbert/anaconda3/lib/python3.6/site-packages/xarray/core/indexing.py\u001b[0m in \u001b[0;36mget_dim_indexers\u001b[0;34m(data_obj, indexers)\u001b[0m\n\u001b[1;32m    241\u001b[0m     \u001b[0;32mif\u001b[0m \u001b[0minvalid\u001b[0m\u001b[0;34m:\u001b[0m\u001b[0;34m\u001b[0m\u001b[0m\n\u001b[1;32m    242\u001b[0m         raise ValueError(\"dimensions or multi-index levels %r do not exist\"\n\u001b[0;32m--> 243\u001b[0;31m                          % invalid)\n\u001b[0m\u001b[1;32m    244\u001b[0m \u001b[0;34m\u001b[0m\u001b[0m\n\u001b[1;32m    245\u001b[0m     \u001b[0mlevel_indexers\u001b[0m \u001b[0;34m=\u001b[0m \u001b[0mdefaultdict\u001b[0m\u001b[0;34m(\u001b[0m\u001b[0mdict\u001b[0m\u001b[0;34m)\u001b[0m\u001b[0;34m\u001b[0m\u001b[0m\n",
      "\u001b[0;31mValueError\u001b[0m: dimensions or multi-index levels ['latitude', 'longitude'] do not exist"
     ]
    }
   ],
   "source": [
    "hotdays[1]\n",
    "ds['time'].sel(time=slice('hotdays'),latitude=0.0,longitude=89.4629)"
   ]
  },
  {
   "cell_type": "code",
   "execution_count": 106,
   "metadata": {
    "collapsed": false
   },
   "outputs": [
    {
     "ename": "TypeError",
     "evalue": "'numpy.ndarray' object is not callable",
     "output_type": "error",
     "traceback": [
      "\u001b[0;31m---------------------------------------------------------------------------\u001b[0m",
      "\u001b[0;31mTypeError\u001b[0m                                 Traceback (most recent call last)",
      "\u001b[0;32m<ipython-input-106-cd65ec98c8e3>\u001b[0m in \u001b[0;36m<module>\u001b[0;34m()\u001b[0m\n\u001b[0;32m----> 1\u001b[0;31m \u001b[0mds\u001b[0m\u001b[0;34m.\u001b[0m\u001b[0mloc\u001b[0m\u001b[0;34m[\u001b[0m\u001b[0;34m{\u001b[0m\u001b[0;34m'time'\u001b[0m\u001b[0;34m:\u001b[0m \u001b[0mhotdays\u001b[0m\u001b[0;34m[\u001b[0m\u001b[0;36m80\u001b[0m\u001b[0;34m:\u001b[0m\u001b[0;36m82\u001b[0m\u001b[0;34m]\u001b[0m\u001b[0;34m.\u001b[0m\u001b[0mdate\u001b[0m\u001b[0;34m(\u001b[0m\u001b[0;34m)\u001b[0m\u001b[0;34m}\u001b[0m\u001b[0;34m]\u001b[0m\u001b[0;34m\u001b[0m\u001b[0m\n\u001b[0m",
      "\u001b[0;31mTypeError\u001b[0m: 'numpy.ndarray' object is not callable"
     ]
    }
   ],
   "source": [
    "ds.loc[{'time': hotdays[80:82].date()}]"
   ]
  },
  {
   "cell_type": "code",
   "execution_count": 23,
   "metadata": {
    "collapsed": false
   },
   "outputs": [
    {
     "data": {
      "text/plain": [
       "DatetimeIndex(['1983-07-26', '1983-07-27', '1983-07-28', '1983-07-29'], dtype='datetime64[ns]', freq='D')"
      ]
     },
     "execution_count": 23,
     "metadata": {},
     "output_type": "execute_result"
    }
   ],
   "source": [
    "pd.date_range(hotdays[150], periods =4)"
   ]
  },
  {
   "cell_type": "code",
   "execution_count": 30,
   "metadata": {
    "collapsed": false,
    "scrolled": true
   },
   "outputs": [
    {
     "ename": "AttributeError",
     "evalue": "'Dataset' object has no attribute 'iloc'",
     "output_type": "error",
     "traceback": [
      "\u001b[0;31m---------------------------------------------------------------------------\u001b[0m",
      "\u001b[0;31mAttributeError\u001b[0m                            Traceback (most recent call last)",
      "\u001b[0;32m<ipython-input-30-b248ff6e0c0c>\u001b[0m in \u001b[0;36m<module>\u001b[0;34m()\u001b[0m\n\u001b[0;32m----> 1\u001b[0;31m \u001b[0mds\u001b[0m\u001b[0;34m.\u001b[0m\u001b[0miloc\u001b[0m\u001b[0;34m[\u001b[0m\u001b[0;36m0\u001b[0m\u001b[0;34m,\u001b[0m\u001b[0;36m0\u001b[0m\u001b[0;34m,\u001b[0m\u001b[0;36m0\u001b[0m\u001b[0;34m,\u001b[0m\u001b[0;34m'2010-01-01'\u001b[0m\u001b[0;34m]\u001b[0m\u001b[0;34m\u001b[0m\u001b[0m\n\u001b[0m",
      "\u001b[0;32m/home/herbert/anaconda3/lib/python3.6/site-packages/xarray/core/common.py\u001b[0m in \u001b[0;36m__getattr__\u001b[0;34m(self, name)\u001b[0m\n\u001b[1;32m    223\u001b[0m                     \u001b[0;32mreturn\u001b[0m \u001b[0msource\u001b[0m\u001b[0;34m[\u001b[0m\u001b[0mname\u001b[0m\u001b[0;34m]\u001b[0m\u001b[0;34m\u001b[0m\u001b[0m\n\u001b[1;32m    224\u001b[0m         raise AttributeError(\"%r object has no attribute %r\" %\n\u001b[0;32m--> 225\u001b[0;31m                              (type(self).__name__, name))\n\u001b[0m\u001b[1;32m    226\u001b[0m \u001b[0;34m\u001b[0m\u001b[0m\n\u001b[1;32m    227\u001b[0m     \u001b[0;32mdef\u001b[0m \u001b[0m__setattr__\u001b[0m\u001b[0;34m(\u001b[0m\u001b[0mself\u001b[0m\u001b[0;34m,\u001b[0m \u001b[0mname\u001b[0m\u001b[0;34m,\u001b[0m \u001b[0mvalue\u001b[0m\u001b[0;34m)\u001b[0m\u001b[0;34m:\u001b[0m\u001b[0;34m\u001b[0m\u001b[0m\n",
      "\u001b[0;31mAttributeError\u001b[0m: 'Dataset' object has no attribute 'iloc'"
     ]
    }
   ],
   "source": [
    "ds.iloc[0,0,0,'2010-01-01']"
   ]
  },
  {
   "cell_type": "code",
   "execution_count": 31,
   "metadata": {
    "collapsed": false
   },
   "outputs": [
    {
     "data": {
      "text/plain": [
       "(4617, 7)"
      ]
     },
     "execution_count": 31,
     "metadata": {},
     "output_type": "execute_result"
    }
   ],
   "source": [
    "df.shape"
   ]
  },
  {
   "cell_type": "code",
   "execution_count": 41,
   "metadata": {
    "collapsed": false
   },
   "outputs": [
    {
     "ename": "AttributeError",
     "evalue": "'numpy.ndarray' object has no attribute 'plot'",
     "output_type": "error",
     "traceback": [
      "\u001b[0;31m---------------------------------------------------------------------------\u001b[0m",
      "\u001b[0;31mAttributeError\u001b[0m                            Traceback (most recent call last)",
      "\u001b[0;32m<ipython-input-41-df731392d01a>\u001b[0m in \u001b[0;36m<module>\u001b[0;34m()\u001b[0m\n\u001b[1;32m     13\u001b[0m \u001b[0mA\u001b[0m \u001b[0;34m=\u001b[0m \u001b[0mDJFM_avg\u001b[0m\u001b[0;34m.\u001b[0m\u001b[0mplot\u001b[0m\u001b[0;34m(\u001b[0m\u001b[0msecondary_y\u001b[0m\u001b[0;34m=\u001b[0m\u001b[0;32mFalse\u001b[0m\u001b[0;34m,\u001b[0m \u001b[0mstyle\u001b[0m\u001b[0;34m=\u001b[0m\u001b[0;34m'g'\u001b[0m\u001b[0;34m)\u001b[0m\u001b[0;34m\u001b[0m\u001b[0m\n\u001b[1;32m     14\u001b[0m \u001b[0mB\u001b[0m \u001b[0;34m=\u001b[0m \u001b[0mDJFM_min\u001b[0m\u001b[0;34m.\u001b[0m\u001b[0mplot\u001b[0m\u001b[0;34m(\u001b[0m\u001b[0msecondary_y\u001b[0m\u001b[0;34m=\u001b[0m\u001b[0;32mFalse\u001b[0m\u001b[0;34m,\u001b[0m \u001b[0mstyle\u001b[0m\u001b[0;34m=\u001b[0m\u001b[0;34m'r'\u001b[0m\u001b[0;34m)\u001b[0m\u001b[0;34m\u001b[0m\u001b[0m\n\u001b[0;32m---> 15\u001b[0;31m \u001b[0mC\u001b[0m \u001b[0;34m=\u001b[0m \u001b[0mpcnt95\u001b[0m\u001b[0;34m.\u001b[0m\u001b[0mplot\u001b[0m\u001b[0;34m(\u001b[0m\u001b[0msecondary_y\u001b[0m\u001b[0;34m=\u001b[0m\u001b[0;32mFalse\u001b[0m\u001b[0;34m,\u001b[0m \u001b[0mstyle\u001b[0m\u001b[0;34m=\u001b[0m\u001b[0;34m'b'\u001b[0m\u001b[0;34m)\u001b[0m\u001b[0;34m\u001b[0m\u001b[0m\n\u001b[0m\u001b[1;32m     16\u001b[0m \u001b[0mA\u001b[0m\u001b[0;34m.\u001b[0m\u001b[0mset_ylabel\u001b[0m\u001b[0;34m(\u001b[0m\u001b[0;34m'CD scale'\u001b[0m\u001b[0;34m)\u001b[0m\u001b[0;34m\u001b[0m\u001b[0m\n",
      "\u001b[0;31mAttributeError\u001b[0m: 'numpy.ndarray' object has no attribute 'plot'"
     ]
    },
    {
     "data": {
      "image/png": "[encoded data removed]",
      "text/plain": [
       "<matplotlib.figure.Figure at 0xa8abca6c>"
      ]
     },
     "metadata": {},
     "output_type": "display_data"
    }
   ],
   "source": [
    "Dago = pd.read_csv('Dagoretti_UHI_1967-2015.csv')#, parse_dates = [[0,1,2]], set_index('YEAR_MONTH_DATE')\n",
    "df = Dago[['MAX', 'MIN', 'MEAN']].set_index(pd.date_range('19670101', periods=17988))\n",
    "df = Dago[(Dago.MONTH == 12)| (Dago.MONTH==1) | (Dago.MONTH==1) | (Dago.MONTH ==3)]\n",
    "#ddd = index=pd.date_range('19670101', periods=17988)\n",
    "#pd.date_range('1967-01-01', periods = 17988 ).shape\n",
    "#DJFM_95 = df['MEAN'].groupby(df.index.values.quantile(.95)#95th percentile of each day of the season\n",
    "#list(range(1, DJFM_min.size))\n",
    "pcntl = df['MEAN'].quantile(.95)\n",
    "#pcnt95 = np.repeat(pcntl, DJFM_avg.size)\n",
    "#final = pcnt95.set_index(list(range(1, DJFM_min.size)))\n",
    "DJFM_min = df['MIN'].groupby(df['YEAR']).mean() # the 95 percentile of the whole dataset\n",
    "DJFM_max = df['MAX'].groupby(df['YEAR']).mean() # the mean of the whole dataset\n",
    "DJFM_max.plot()\n",
    "A = DJFM_avg.plot(secondary_y=False, style='g')\n",
    "B = DJFM_min.plot(secondary_y=False, style='r')\n",
    "C = pcnt95.plot(secondary_y=False, style='b')\n",
    "A.set_ylabel('CD scale')"
   ]
  },
  {
   "cell_type": "code",
   "execution_count": 58,
   "metadata": {
    "collapsed": false
   },
   "outputs": [
    {
     "ename": "AttributeError",
     "evalue": "'numpy.ndarray' object has no attribute 'plot'",
     "output_type": "error",
     "traceback": [
      "\u001b[0;31m---------------------------------------------------------------------------\u001b[0m",
      "\u001b[0;31mAttributeError\u001b[0m                            Traceback (most recent call last)",
      "\u001b[0;32m<ipython-input-58-6097abab542e>\u001b[0m in \u001b[0;36m<module>\u001b[0;34m()\u001b[0m\n\u001b[1;32m      4\u001b[0m \u001b[0;31m#pandas.Index.repeat(1,5)\u001b[0m\u001b[0;34m\u001b[0m\u001b[0;34m\u001b[0m\u001b[0m\n\u001b[1;32m      5\u001b[0m \u001b[0;31m#pcntl\u001b[0m\u001b[0;34m\u001b[0m\u001b[0;34m\u001b[0m\u001b[0m\n\u001b[0;32m----> 6\u001b[0;31m \u001b[0mpp\u001b[0m\u001b[0;34m.\u001b[0m\u001b[0mplot\u001b[0m\u001b[0;34m(\u001b[0m\u001b[0;34m)\u001b[0m\u001b[0;34m\u001b[0m\u001b[0m\n\u001b[0m",
      "\u001b[0;31mAttributeError\u001b[0m: 'numpy.ndarray' object has no attribute 'plot'"
     ]
    }
   ],
   "source": [
    "pcntl = df['MEAN'].quantile(.95)\n",
    "#pcnt_val.plot(secondary_y=False, style='b')\n",
    "pp = np.repeat(pcntl, DJFM_avg.size)\n",
    "#pandas.Index.repeat(1,5)\n",
    "#pcntl\n",
    "pp.plot()"
   ]
  },
  {
   "cell_type": "code",
   "execution_count": 29,
   "metadata": {
    "collapsed": false
   },
   "outputs": [
    {
     "data": {
      "text/plain": [
       "21.4"
      ]
     },
     "execution_count": 29,
     "metadata": {},
     "output_type": "execute_result"
    }
   ],
   "source": [
    "df['MEAN'].quantile(.95)"
   ]
  },
  {
   "cell_type": "code",
   "execution_count": 59,
   "metadata": {
    "collapsed": false
   },
   "outputs": [
    {
     "ename": "AttributeError",
     "evalue": "'numpy.ndarray' object has no attribute 'set_index'",
     "output_type": "error",
     "traceback": [
      "\u001b[0;31m---------------------------------------------------------------------------\u001b[0m",
      "\u001b[0;31mAttributeError\u001b[0m                            Traceback (most recent call last)",
      "\u001b[0;32m<ipython-input-59-f53f13c05e86>\u001b[0m in \u001b[0;36m<module>\u001b[0;34m()\u001b[0m\n\u001b[0;32m----> 1\u001b[0;31m \u001b[0mfinal\u001b[0m \u001b[0;34m=\u001b[0m \u001b[0mpcnt95\u001b[0m\u001b[0;34m.\u001b[0m\u001b[0mset_index\u001b[0m\u001b[0;34m(\u001b[0m\u001b[0mlist\u001b[0m\u001b[0;34m(\u001b[0m\u001b[0mrange\u001b[0m\u001b[0;34m(\u001b[0m\u001b[0;36m1\u001b[0m\u001b[0;34m,\u001b[0m \u001b[0mDJFM_min\u001b[0m\u001b[0;34m.\u001b[0m\u001b[0msize\u001b[0m\u001b[0;34m)\u001b[0m\u001b[0;34m)\u001b[0m\u001b[0;34m)\u001b[0m\u001b[0;34m\u001b[0m\u001b[0m\n\u001b[0m",
      "\u001b[0;31mAttributeError\u001b[0m: 'numpy.ndarray' object has no attribute 'set_index'"
     ]
    }
   ],
   "source": [
    "Series.append()\n",
    "final = pcnt95.set_index(list(range(1, DJFM_min.size)))"
   ]
  },
  {
   "cell_type": "code",
   "execution_count": 79,
   "metadata": {
    "collapsed": false
   },
   "outputs": [
    {
     "data": {
      "text/plain": [
       "50    [21.4, 21.4, 21.4, 21.4, 21.4, 21.4, 21.4, 21....\n",
       "dtype: object"
      ]
     },
     "execution_count": 79,
     "metadata": {},
     "output_type": "execute_result"
    }
   ],
   "source": [
    "#s3 = pd.Series([4], freq=5)\n",
    "Q = pd.Series([pp], index=[DJFM_min.size])\n",
    "Q"
   ]
  },
  {
   "cell_type": "code",
   "execution_count": 39,
   "metadata": {
    "collapsed": false
   },
   "outputs": [],
   "source": [
    "index=pd.date_range('19670101', periods=17988)index=pd.date_range('19670101', periods=17988)"
   ]
  },
  {
   "cell_type": "code",
   "execution_count": null,
   "metadata": {
    "collapsed": true
   },
   "outputs": [],
   "source": []
  },
  {
   "cell_type": "code",
   "execution_count": 69,
   "metadata": {
    "collapsed": false
   },
   "outputs": [
    {
     "data": {
      "text/plain": [
       "(17988,)"
      ]
     },
     "execution_count": 69,
     "metadata": {},
     "output_type": "execute_result"
    }
   ],
   "source": [
    "pd.date_range('1967-01-01', periods = 17988 ).shape"
   ]
  },
  {
   "cell_type": "code",
   "execution_count": 70,
   "metadata": {
    "collapsed": false
   },
   "outputs": [
    {
     "data": {
      "text/plain": [
       "(17988, 7)"
      ]
     },
     "execution_count": 70,
     "metadata": {},
     "output_type": "execute_result"
    }
   ],
   "source": [
    "Dago.shape"
   ]
  },
  {
   "cell_type": "code",
   "execution_count": 75,
   "metadata": {
    "collapsed": false
   },
   "outputs": [],
   "source": [
    "df = Dago[['MAX', 'MIN', 'MEAN']].set_index(pd.date_range('19670101', periods=17988))"
   ]
  },
  {
   "cell_type": "code",
   "execution_count": 76,
   "metadata": {
    "collapsed": false
   },
   "outputs": [
    {
     "data": {
      "text/html": [
       "<div>\n",
       "<table border=\"1\" class=\"dataframe\">\n",
       "  <thead>\n",
       "    <tr style=\"text-align: right;\">\n",
       "      <th></th>\n",
       "      <th>MAX</th>\n",
       "      <th>MIN</th>\n",
       "      <th>MEAN</th>\n",
       "    </tr>\n",
       "  </thead>\n",
       "  <tbody>\n",
       "    <tr>\n",
       "      <th>1967-01-01</th>\n",
       "      <td>26.4</td>\n",
       "      <td>11.8</td>\n",
       "      <td>19.10</td>\n",
       "    </tr>\n",
       "    <tr>\n",
       "      <th>1967-01-02</th>\n",
       "      <td>26.0</td>\n",
       "      <td>10.7</td>\n",
       "      <td>18.35</td>\n",
       "    </tr>\n",
       "    <tr>\n",
       "      <th>1967-01-03</th>\n",
       "      <td>26.2</td>\n",
       "      <td>8.3</td>\n",
       "      <td>17.25</td>\n",
       "    </tr>\n",
       "    <tr>\n",
       "      <th>1967-01-04</th>\n",
       "      <td>26.1</td>\n",
       "      <td>6.4</td>\n",
       "      <td>16.25</td>\n",
       "    </tr>\n",
       "    <tr>\n",
       "      <th>1967-01-05</th>\n",
       "      <td>26.4</td>\n",
       "      <td>6.5</td>\n",
       "      <td>16.45</td>\n",
       "    </tr>\n",
       "  </tbody>\n",
       "</table>\n",
       "</div>"
      ],
      "text/plain": [
       "             MAX   MIN   MEAN\n",
       "1967-01-01  26.4  11.8  19.10\n",
       "1967-01-02  26.0  10.7  18.35\n",
       "1967-01-03  26.2   8.3  17.25\n",
       "1967-01-04  26.1   6.4  16.25\n",
       "1967-01-05  26.4   6.5  16.45"
      ]
     },
     "execution_count": 76,
     "metadata": {},
     "output_type": "execute_result"
    }
   ],
   "source": [
    "df.head()"
   ]
  },
  {
   "cell_type": "code",
   "execution_count": 76,
   "metadata": {
    "collapsed": false
   },
   "outputs": [
    {
     "data": {
      "text/html": [
       "<div>\n",
       "<table border=\"1\" class=\"dataframe\">\n",
       "  <thead>\n",
       "    <tr style=\"text-align: right;\">\n",
       "      <th></th>\n",
       "      <th>MAX</th>\n",
       "      <th>MIN</th>\n",
       "      <th>MEAN</th>\n",
       "    </tr>\n",
       "  </thead>\n",
       "  <tbody>\n",
       "    <tr>\n",
       "      <th>1967-01-01</th>\n",
       "      <td>26.4</td>\n",
       "      <td>11.8</td>\n",
       "      <td>19.10</td>\n",
       "    </tr>\n",
       "    <tr>\n",
       "      <th>1967-01-02</th>\n",
       "      <td>26.0</td>\n",
       "      <td>10.7</td>\n",
       "      <td>18.35</td>\n",
       "    </tr>\n",
       "    <tr>\n",
       "      <th>1967-01-03</th>\n",
       "      <td>26.2</td>\n",
       "      <td>8.3</td>\n",
       "      <td>17.25</td>\n",
       "    </tr>\n",
       "    <tr>\n",
       "      <th>1967-01-04</th>\n",
       "      <td>26.1</td>\n",
       "      <td>6.4</td>\n",
       "      <td>16.25</td>\n",
       "    </tr>\n",
       "    <tr>\n",
       "      <th>1967-01-05</th>\n",
       "      <td>26.4</td>\n",
       "      <td>6.5</td>\n",
       "      <td>16.45</td>\n",
       "    </tr>\n",
       "    <tr>\n",
       "      <th>1967-01-06</th>\n",
       "      <td>25.7</td>\n",
       "      <td>6.4</td>\n",
       "      <td>16.05</td>\n",
       "    </tr>\n",
       "    <tr>\n",
       "      <th>1967-01-07</th>\n",
       "      <td>25.3</td>\n",
       "      <td>4.8</td>\n",
       "      <td>15.05</td>\n",
       "    </tr>\n",
       "    <tr>\n",
       "      <th>1967-01-08</th>\n",
       "      <td>25.9</td>\n",
       "      <td>7.0</td>\n",
       "      <td>16.45</td>\n",
       "    </tr>\n",
       "    <tr>\n",
       "      <th>1967-01-09</th>\n",
       "      <td>27.0</td>\n",
       "      <td>10.8</td>\n",
       "      <td>18.90</td>\n",
       "    </tr>\n",
       "    <tr>\n",
       "      <th>1967-01-10</th>\n",
       "      <td>27.2</td>\n",
       "      <td>8.5</td>\n",
       "      <td>17.85</td>\n",
       "    </tr>\n",
       "    <tr>\n",
       "      <th>1967-01-11</th>\n",
       "      <td>27.6</td>\n",
       "      <td>12.5</td>\n",
       "      <td>20.05</td>\n",
       "    </tr>\n",
       "    <tr>\n",
       "      <th>1967-01-12</th>\n",
       "      <td>27.5</td>\n",
       "      <td>7.8</td>\n",
       "      <td>17.65</td>\n",
       "    </tr>\n",
       "    <tr>\n",
       "      <th>1967-01-13</th>\n",
       "      <td>25.9</td>\n",
       "      <td>14.2</td>\n",
       "      <td>20.05</td>\n",
       "    </tr>\n",
       "    <tr>\n",
       "      <th>1967-01-14</th>\n",
       "      <td>26.5</td>\n",
       "      <td>7.4</td>\n",
       "      <td>16.95</td>\n",
       "    </tr>\n",
       "    <tr>\n",
       "      <th>1967-01-15</th>\n",
       "      <td>25.5</td>\n",
       "      <td>6.4</td>\n",
       "      <td>15.95</td>\n",
       "    </tr>\n",
       "    <tr>\n",
       "      <th>1967-01-16</th>\n",
       "      <td>26.0</td>\n",
       "      <td>9.3</td>\n",
       "      <td>17.65</td>\n",
       "    </tr>\n",
       "    <tr>\n",
       "      <th>1967-01-17</th>\n",
       "      <td>26.3</td>\n",
       "      <td>7.0</td>\n",
       "      <td>16.65</td>\n",
       "    </tr>\n",
       "    <tr>\n",
       "      <th>1967-01-18</th>\n",
       "      <td>25.5</td>\n",
       "      <td>9.4</td>\n",
       "      <td>17.45</td>\n",
       "    </tr>\n",
       "    <tr>\n",
       "      <th>1967-01-21</th>\n",
       "      <td>26.2</td>\n",
       "      <td>11.0</td>\n",
       "      <td>18.60</td>\n",
       "    </tr>\n",
       "    <tr>\n",
       "      <th>1967-01-22</th>\n",
       "      <td>26.0</td>\n",
       "      <td>9.2</td>\n",
       "      <td>17.60</td>\n",
       "    </tr>\n",
       "    <tr>\n",
       "      <th>1967-01-23</th>\n",
       "      <td>26.4</td>\n",
       "      <td>13.8</td>\n",
       "      <td>20.10</td>\n",
       "    </tr>\n",
       "    <tr>\n",
       "      <th>1967-01-25</th>\n",
       "      <td>26.3</td>\n",
       "      <td>9.1</td>\n",
       "      <td>17.70</td>\n",
       "    </tr>\n",
       "    <tr>\n",
       "      <th>1967-01-26</th>\n",
       "      <td>27.7</td>\n",
       "      <td>7.5</td>\n",
       "      <td>17.60</td>\n",
       "    </tr>\n",
       "    <tr>\n",
       "      <th>1967-01-27</th>\n",
       "      <td>25.4</td>\n",
       "      <td>7.4</td>\n",
       "      <td>16.40</td>\n",
       "    </tr>\n",
       "    <tr>\n",
       "      <th>1967-01-28</th>\n",
       "      <td>25.1</td>\n",
       "      <td>9.3</td>\n",
       "      <td>17.20</td>\n",
       "    </tr>\n",
       "    <tr>\n",
       "      <th>1967-01-29</th>\n",
       "      <td>25.8</td>\n",
       "      <td>11.7</td>\n",
       "      <td>18.75</td>\n",
       "    </tr>\n",
       "    <tr>\n",
       "      <th>1967-01-30</th>\n",
       "      <td>25.6</td>\n",
       "      <td>12.8</td>\n",
       "      <td>19.20</td>\n",
       "    </tr>\n",
       "    <tr>\n",
       "      <th>1967-01-31</th>\n",
       "      <td>25.9</td>\n",
       "      <td>9.1</td>\n",
       "      <td>17.50</td>\n",
       "    </tr>\n",
       "    <tr>\n",
       "      <th>1967-03-01</th>\n",
       "      <td>27.9</td>\n",
       "      <td>11.4</td>\n",
       "      <td>19.65</td>\n",
       "    </tr>\n",
       "    <tr>\n",
       "      <th>1967-03-02</th>\n",
       "      <td>27.1</td>\n",
       "      <td>14.1</td>\n",
       "      <td>20.60</td>\n",
       "    </tr>\n",
       "    <tr>\n",
       "      <th>...</th>\n",
       "      <td>...</td>\n",
       "      <td>...</td>\n",
       "      <td>...</td>\n",
       "    </tr>\n",
       "    <tr>\n",
       "      <th>2015-09-24</th>\n",
       "      <td>26.0</td>\n",
       "      <td>13.4</td>\n",
       "      <td>19.70</td>\n",
       "    </tr>\n",
       "    <tr>\n",
       "      <th>2015-09-25</th>\n",
       "      <td>25.8</td>\n",
       "      <td>13.6</td>\n",
       "      <td>19.70</td>\n",
       "    </tr>\n",
       "    <tr>\n",
       "      <th>2015-09-27</th>\n",
       "      <td>27.0</td>\n",
       "      <td>14.2</td>\n",
       "      <td>20.60</td>\n",
       "    </tr>\n",
       "    <tr>\n",
       "      <th>2015-09-28</th>\n",
       "      <td>28.3</td>\n",
       "      <td>15.5</td>\n",
       "      <td>21.90</td>\n",
       "    </tr>\n",
       "    <tr>\n",
       "      <th>2015-09-29</th>\n",
       "      <td>28.3</td>\n",
       "      <td>15.7</td>\n",
       "      <td>22.00</td>\n",
       "    </tr>\n",
       "    <tr>\n",
       "      <th>2015-09-30</th>\n",
       "      <td>28.4</td>\n",
       "      <td>12.4</td>\n",
       "      <td>20.40</td>\n",
       "    </tr>\n",
       "    <tr>\n",
       "      <th>2015-10-01</th>\n",
       "      <td>26.5</td>\n",
       "      <td>15.6</td>\n",
       "      <td>21.05</td>\n",
       "    </tr>\n",
       "    <tr>\n",
       "      <th>2015-10-02</th>\n",
       "      <td>26.0</td>\n",
       "      <td>15.9</td>\n",
       "      <td>20.95</td>\n",
       "    </tr>\n",
       "    <tr>\n",
       "      <th>2015-10-03</th>\n",
       "      <td>26.3</td>\n",
       "      <td>14.7</td>\n",
       "      <td>20.50</td>\n",
       "    </tr>\n",
       "    <tr>\n",
       "      <th>2015-10-04</th>\n",
       "      <td>25.6</td>\n",
       "      <td>15.0</td>\n",
       "      <td>20.30</td>\n",
       "    </tr>\n",
       "    <tr>\n",
       "      <th>2015-10-05</th>\n",
       "      <td>26.7</td>\n",
       "      <td>11.0</td>\n",
       "      <td>18.85</td>\n",
       "    </tr>\n",
       "    <tr>\n",
       "      <th>2015-10-07</th>\n",
       "      <td>25.5</td>\n",
       "      <td>5.1</td>\n",
       "      <td>15.30</td>\n",
       "    </tr>\n",
       "    <tr>\n",
       "      <th>2015-10-08</th>\n",
       "      <td>26.6</td>\n",
       "      <td>15.7</td>\n",
       "      <td>21.15</td>\n",
       "    </tr>\n",
       "    <tr>\n",
       "      <th>2015-10-09</th>\n",
       "      <td>27.0</td>\n",
       "      <td>15.7</td>\n",
       "      <td>21.35</td>\n",
       "    </tr>\n",
       "    <tr>\n",
       "      <th>2015-10-10</th>\n",
       "      <td>27.0</td>\n",
       "      <td>15.5</td>\n",
       "      <td>21.25</td>\n",
       "    </tr>\n",
       "    <tr>\n",
       "      <th>2015-10-11</th>\n",
       "      <td>27.0</td>\n",
       "      <td>15.2</td>\n",
       "      <td>21.10</td>\n",
       "    </tr>\n",
       "    <tr>\n",
       "      <th>2015-10-13</th>\n",
       "      <td>25.7</td>\n",
       "      <td>15.7</td>\n",
       "      <td>20.70</td>\n",
       "    </tr>\n",
       "    <tr>\n",
       "      <th>2015-10-14</th>\n",
       "      <td>26.7</td>\n",
       "      <td>15.3</td>\n",
       "      <td>21.00</td>\n",
       "    </tr>\n",
       "    <tr>\n",
       "      <th>2015-10-15</th>\n",
       "      <td>26.5</td>\n",
       "      <td>16.5</td>\n",
       "      <td>21.50</td>\n",
       "    </tr>\n",
       "    <tr>\n",
       "      <th>2015-10-19</th>\n",
       "      <td>25.7</td>\n",
       "      <td>15.0</td>\n",
       "      <td>20.35</td>\n",
       "    </tr>\n",
       "    <tr>\n",
       "      <th>2015-10-20</th>\n",
       "      <td>26.8</td>\n",
       "      <td>15.0</td>\n",
       "      <td>20.90</td>\n",
       "    </tr>\n",
       "    <tr>\n",
       "      <th>2015-10-24</th>\n",
       "      <td>25.6</td>\n",
       "      <td>16.1</td>\n",
       "      <td>20.85</td>\n",
       "    </tr>\n",
       "    <tr>\n",
       "      <th>2015-10-25</th>\n",
       "      <td>26.8</td>\n",
       "      <td>14.5</td>\n",
       "      <td>20.65</td>\n",
       "    </tr>\n",
       "    <tr>\n",
       "      <th>2015-10-26</th>\n",
       "      <td>25.5</td>\n",
       "      <td>15.7</td>\n",
       "      <td>20.60</td>\n",
       "    </tr>\n",
       "    <tr>\n",
       "      <th>2015-11-01</th>\n",
       "      <td>25.8</td>\n",
       "      <td>11.9</td>\n",
       "      <td>18.85</td>\n",
       "    </tr>\n",
       "    <tr>\n",
       "      <th>2015-11-02</th>\n",
       "      <td>25.8</td>\n",
       "      <td>17.2</td>\n",
       "      <td>21.50</td>\n",
       "    </tr>\n",
       "    <tr>\n",
       "      <th>2015-11-27</th>\n",
       "      <td>25.1</td>\n",
       "      <td>14.6</td>\n",
       "      <td>19.85</td>\n",
       "    </tr>\n",
       "    <tr>\n",
       "      <th>2015-12-05</th>\n",
       "      <td>25.5</td>\n",
       "      <td>17.0</td>\n",
       "      <td>21.25</td>\n",
       "    </tr>\n",
       "    <tr>\n",
       "      <th>2015-12-09</th>\n",
       "      <td>25.4</td>\n",
       "      <td>15.8</td>\n",
       "      <td>20.60</td>\n",
       "    </tr>\n",
       "    <tr>\n",
       "      <th>2015-12-10</th>\n",
       "      <td>25.5</td>\n",
       "      <td>16.2</td>\n",
       "      <td>20.85</td>\n",
       "    </tr>\n",
       "  </tbody>\n",
       "</table>\n",
       "<p>5392 rows × 3 columns</p>\n",
       "</div>"
      ],
      "text/plain": [
       "             MAX   MIN   MEAN\n",
       "1967-01-01  26.4  11.8  19.10\n",
       "1967-01-02  26.0  10.7  18.35\n",
       "1967-01-03  26.2   8.3  17.25\n",
       "1967-01-04  26.1   6.4  16.25\n",
       "1967-01-05  26.4   6.5  16.45\n",
       "1967-01-06  25.7   6.4  16.05\n",
       "1967-01-07  25.3   4.8  15.05\n",
       "1967-01-08  25.9   7.0  16.45\n",
       "1967-01-09  27.0  10.8  18.90\n",
       "1967-01-10  27.2   8.5  17.85\n",
       "1967-01-11  27.6  12.5  20.05\n",
       "1967-01-12  27.5   7.8  17.65\n",
       "1967-01-13  25.9  14.2  20.05\n",
       "1967-01-14  26.5   7.4  16.95\n",
       "1967-01-15  25.5   6.4  15.95\n",
       "1967-01-16  26.0   9.3  17.65\n",
       "1967-01-17  26.3   7.0  16.65\n",
       "1967-01-18  25.5   9.4  17.45\n",
       "1967-01-21  26.2  11.0  18.60\n",
       "1967-01-22  26.0   9.2  17.60\n",
       "1967-01-23  26.4  13.8  20.10\n",
       "1967-01-25  26.3   9.1  17.70\n",
       "1967-01-26  27.7   7.5  17.60\n",
       "1967-01-27  25.4   7.4  16.40\n",
       "1967-01-28  25.1   9.3  17.20\n",
       "1967-01-29  25.8  11.7  18.75\n",
       "1967-01-30  25.6  12.8  19.20\n",
       "1967-01-31  25.9   9.1  17.50\n",
       "1967-03-01  27.9  11.4  19.65\n",
       "1967-03-02  27.1  14.1  20.60\n",
       "...          ...   ...    ...\n",
       "2015-09-24  26.0  13.4  19.70\n",
       "2015-09-25  25.8  13.6  19.70\n",
       "2015-09-27  27.0  14.2  20.60\n",
       "2015-09-28  28.3  15.5  21.90\n",
       "2015-09-29  28.3  15.7  22.00\n",
       "2015-09-30  28.4  12.4  20.40\n",
       "2015-10-01  26.5  15.6  21.05\n",
       "2015-10-02  26.0  15.9  20.95\n",
       "2015-10-03  26.3  14.7  20.50\n",
       "2015-10-04  25.6  15.0  20.30\n",
       "2015-10-05  26.7  11.0  18.85\n",
       "2015-10-07  25.5   5.1  15.30\n",
       "2015-10-08  26.6  15.7  21.15\n",
       "2015-10-09  27.0  15.7  21.35\n",
       "2015-10-10  27.0  15.5  21.25\n",
       "2015-10-11  27.0  15.2  21.10\n",
       "2015-10-13  25.7  15.7  20.70\n",
       "2015-10-14  26.7  15.3  21.00\n",
       "2015-10-15  26.5  16.5  21.50\n",
       "2015-10-19  25.7  15.0  20.35\n",
       "2015-10-20  26.8  15.0  20.90\n",
       "2015-10-24  25.6  16.1  20.85\n",
       "2015-10-25  26.8  14.5  20.65\n",
       "2015-10-26  25.5  15.7  20.60\n",
       "2015-11-01  25.8  11.9  18.85\n",
       "2015-11-02  25.8  17.2  21.50\n",
       "2015-11-27  25.1  14.6  19.85\n",
       "2015-12-05  25.5  17.0  21.25\n",
       "2015-12-09  25.4  15.8  20.60\n",
       "2015-12-10  25.5  16.2  20.85\n",
       "\n",
       "[5392 rows x 3 columns]"
      ]
     },
     "execution_count": 76,
     "metadata": {},
     "output_type": "execute_result"
    }
   ],
   "source": [
    "df[df['MAX'] > 25] # select dagoretti data on days when tmax > 25"
   ]
  },
  {
   "cell_type": "code",
   "execution_count": 138,
   "metadata": {
    "collapsed": false
   },
   "outputs": [
    {
     "ename": "ValueError",
     "evalue": "The truth value of an array with more than one element is ambiguous. Use a.any() or a.all()",
     "output_type": "error",
     "traceback": [
      "\u001b[0;31m---------------------------------------------------------------------------\u001b[0m",
      "\u001b[0;31mValueError\u001b[0m                                Traceback (most recent call last)",
      "\u001b[0;32m<ipython-input-138-5e2ae384ffff>\u001b[0m in \u001b[0;36m<module>\u001b[0;34m()\u001b[0m\n\u001b[0;32m----> 1\u001b[0;31m \u001b[0mdf\u001b[0m\u001b[0;34m[\u001b[0m\u001b[0;36m2\u001b[0m\u001b[0;34m>=\u001b[0m \u001b[0mdf\u001b[0m\u001b[0;34m.\u001b[0m\u001b[0mindex\u001b[0m\u001b[0;34m.\u001b[0m\u001b[0mmonth\u001b[0m \u001b[0;32mor\u001b[0m \u001b[0;36m11\u001b[0m\u001b[0;34m<\u001b[0m \u001b[0mdf\u001b[0m\u001b[0;34m.\u001b[0m\u001b[0mindex\u001b[0m\u001b[0;34m.\u001b[0m\u001b[0mmonth\u001b[0m\u001b[0;34m]\u001b[0m\u001b[0;34m\u001b[0m\u001b[0m\n\u001b[0m",
      "\u001b[0;31mValueError\u001b[0m: The truth value of an array with more than one element is ambiguous. Use a.any() or a.all()"
     ]
    }
   ],
   "source": [
    "df[2>= df.index.month or 11< df.index.month]"
   ]
  },
  {
   "cell_type": "code",
   "execution_count": 110,
   "metadata": {
    "collapsed": false
   },
   "outputs": [
    {
     "ename": "TypeError",
     "evalue": "'numpy.ndarray' object is not callable",
     "output_type": "error",
     "traceback": [
      "\u001b[0;31m---------------------------------------------------------------------------\u001b[0m",
      "\u001b[0;31mTypeError\u001b[0m                                 Traceback (most recent call last)",
      "\u001b[0;32m<ipython-input-110-89c708a8d686>\u001b[0m in \u001b[0;36m<module>\u001b[0;34m()\u001b[0m\n\u001b[0;32m----> 1\u001b[0;31m \u001b[0mdf\u001b[0m\u001b[0;34m[\u001b[0m\u001b[0;34m'MEAN'\u001b[0m\u001b[0;34m]\u001b[0m\u001b[0;34m.\u001b[0m\u001b[0mgroupby\u001b[0m\u001b[0;34m(\u001b[0m\u001b[0mdf\u001b[0m\u001b[0;34m.\u001b[0m\u001b[0mindex\u001b[0m\u001b[0;34m.\u001b[0m\u001b[0mquarter\u001b[0m\u001b[0;34m(\u001b[0m\u001b[0;34m'Q-NOV'\u001b[0m\u001b[0;34m)\u001b[0m\u001b[0;34m)\u001b[0m\u001b[0;34m.\u001b[0m\u001b[0mmean\u001b[0m\u001b[0;34m(\u001b[0m\u001b[0;34m)\u001b[0m\u001b[0;34m.\u001b[0m\u001b[0mrolling\u001b[0m\u001b[0;34m(\u001b[0m\u001b[0mwindow\u001b[0m \u001b[0;34m=\u001b[0m \u001b[0;36m1\u001b[0m\u001b[0;34m)\u001b[0m\u001b[0;34m.\u001b[0m\u001b[0mmean\u001b[0m\u001b[0;34m(\u001b[0m\u001b[0;34m)\u001b[0m\u001b[0;34m.\u001b[0m\u001b[0mplot\u001b[0m\u001b[0;34m(\u001b[0m\u001b[0;34m)\u001b[0m\u001b[0;34m\u001b[0m\u001b[0m\n\u001b[0m",
      "\u001b[0;31mTypeError\u001b[0m: 'numpy.ndarray' object is not callable"
     ]
    }
   ],
   "source": [
    "df['MEAN'].groupby(df.index.quarter('Q-NOV')).mean().rolling(window = 1).mean().plot()"
   ]
  },
  {
   "cell_type": "code",
   "execution_count": 112,
   "metadata": {
    "collapsed": false
   },
   "outputs": [
    {
     "ename": "TypeError",
     "evalue": "'numpy.ndarray' object is not callable",
     "output_type": "error",
     "traceback": [
      "\u001b[0;31m---------------------------------------------------------------------------\u001b[0m",
      "\u001b[0;31mTypeError\u001b[0m                                 Traceback (most recent call last)",
      "\u001b[0;32m<ipython-input-112-837f8248c6e1>\u001b[0m in \u001b[0;36m<module>\u001b[0;34m()\u001b[0m\n\u001b[0;32m----> 1\u001b[0;31m \u001b[0mdf\u001b[0m\u001b[0;34m.\u001b[0m\u001b[0mindex\u001b[0m\u001b[0;34m.\u001b[0m\u001b[0mquarter\u001b[0m\u001b[0;34m(\u001b[0m\u001b[0;34m'Q-NOV'\u001b[0m\u001b[0;34m)\u001b[0m\u001b[0;34m\u001b[0m\u001b[0m\n\u001b[0m",
      "\u001b[0;31mTypeError\u001b[0m: 'numpy.ndarray' object is not callable"
     ]
    }
   ],
   "source": [
    "df.index.quarter('Q-NOV')"
   ]
  },
  {
   "cell_type": "code",
   "execution_count": 91,
   "metadata": {
    "collapsed": false
   },
   "outputs": [
    {
     "data": {
      "text/plain": [
       "count    16953.000000\n",
       "mean        18.301652\n",
       "std          3.348072\n",
       "min        -45.450000\n",
       "50%         18.600000\n",
       "95%         20.950000\n",
       "max        133.150000\n",
       "Name: MEAN, dtype: float64"
      ]
     },
     "execution_count": 91,
     "metadata": {},
     "output_type": "execute_result"
    }
   ],
   "source": [
    "df['MEAN'].describe(percentiles=[.95])"
   ]
  },
  {
   "cell_type": "code",
   "execution_count": 119,
   "metadata": {
    "collapsed": false
   },
   "outputs": [
    {
     "ename": "AttributeError",
     "evalue": "'DatetimeIndex' object has no attribute 'season'",
     "output_type": "error",
     "traceback": [
      "\u001b[0;31m---------------------------------------------------------------------------\u001b[0m",
      "\u001b[0;31mAttributeError\u001b[0m                            Traceback (most recent call last)",
      "\u001b[0;32m<ipython-input-119-b801f95d28ce>\u001b[0m in \u001b[0;36m<module>\u001b[0;34m()\u001b[0m\n\u001b[0;32m----> 1\u001b[0;31m \u001b[0mDago_95\u001b[0m \u001b[0;34m=\u001b[0m \u001b[0mdf\u001b[0m\u001b[0;34m[\u001b[0m\u001b[0;34m'MEAN'\u001b[0m\u001b[0;34m]\u001b[0m\u001b[0;34m.\u001b[0m\u001b[0mgroupby\u001b[0m\u001b[0;34m(\u001b[0m\u001b[0mdf\u001b[0m\u001b[0;34m.\u001b[0m\u001b[0mindex\u001b[0m\u001b[0;34m.\u001b[0m\u001b[0mseason\u001b[0m\u001b[0;34m)\u001b[0m\u001b[0;34m.\u001b[0m\u001b[0mquantile\u001b[0m\u001b[0;34m(\u001b[0m\u001b[0;36m.95\u001b[0m\u001b[0;34m)\u001b[0m\u001b[0;31m#95th percentile of each day of the year\u001b[0m\u001b[0;34m\u001b[0m\u001b[0m\n\u001b[0m",
      "\u001b[0;31mAttributeError\u001b[0m: 'DatetimeIndex' object has no attribute 'season'"
     ]
    }
   ],
   "source": [
    "Dago_95 = df['MEAN'].groupby(df.index.season).quantile(.95)#95th percentile of each day of the year"
   ]
  },
  {
   "cell_type": "code",
   "execution_count": 85,
   "metadata": {
    "collapsed": false
   },
   "outputs": [
    {
     "data": {
      "text/html": [
       "<div>\n",
       "<table border=\"1\" class=\"dataframe\">\n",
       "  <thead>\n",
       "    <tr style=\"text-align: right;\">\n",
       "      <th></th>\n",
       "      <th>MAX</th>\n",
       "      <th>MIN</th>\n",
       "      <th>MEAN</th>\n",
       "      <th>Dates</th>\n",
       "    </tr>\n",
       "  </thead>\n",
       "  <tbody>\n",
       "    <tr>\n",
       "      <th>1967-01-01</th>\n",
       "      <td>26.4</td>\n",
       "      <td>11.8</td>\n",
       "      <td>19.10</td>\n",
       "      <td>1967-01-01</td>\n",
       "    </tr>\n",
       "    <tr>\n",
       "      <th>1967-01-02</th>\n",
       "      <td>26.0</td>\n",
       "      <td>10.7</td>\n",
       "      <td>18.35</td>\n",
       "      <td>1967-01-02</td>\n",
       "    </tr>\n",
       "    <tr>\n",
       "      <th>1967-01-03</th>\n",
       "      <td>26.2</td>\n",
       "      <td>8.3</td>\n",
       "      <td>17.25</td>\n",
       "      <td>1967-01-03</td>\n",
       "    </tr>\n",
       "    <tr>\n",
       "      <th>1967-01-04</th>\n",
       "      <td>26.1</td>\n",
       "      <td>6.4</td>\n",
       "      <td>16.25</td>\n",
       "      <td>1967-01-04</td>\n",
       "    </tr>\n",
       "    <tr>\n",
       "      <th>1967-01-05</th>\n",
       "      <td>26.4</td>\n",
       "      <td>6.5</td>\n",
       "      <td>16.45</td>\n",
       "      <td>1967-01-05</td>\n",
       "    </tr>\n",
       "  </tbody>\n",
       "</table>\n",
       "</div>"
      ],
      "text/plain": [
       "             MAX   MIN   MEAN      Dates\n",
       "1967-01-01  26.4  11.8  19.10 1967-01-01\n",
       "1967-01-02  26.0  10.7  18.35 1967-01-02\n",
       "1967-01-03  26.2   8.3  17.25 1967-01-03\n",
       "1967-01-04  26.1   6.4  16.25 1967-01-04\n",
       "1967-01-05  26.4   6.5  16.45 1967-01-05"
      ]
     },
     "execution_count": 85,
     "metadata": {},
     "output_type": "execute_result"
    }
   ],
   "source": [
    "df['Dates'] = pd.date_range('19670101', periods=17988)\n",
    "df[(df.Dates > 1967-01) & (aonao.NAO < 0)"
   ]
  },
  {
   "cell_type": "code",
   "execution_count": 96,
   "metadata": {
    "collapsed": false
   },
   "outputs": [
    {
     "data": {
      "text/plain": [
       "Int64Index([  1,   2,   3,   4,   5,   6,   7,   8,   9,  10,\n",
       "            ...\n",
       "            357, 358, 359, 360, 361, 362, 363, 364, 365, 366],\n",
       "           dtype='int64', length=366)"
      ]
     },
     "execution_count": 96,
     "metadata": {},
     "output_type": "execute_result"
    }
   ],
   "source": [
    "Dago_95.index"
   ]
  },
  {
   "cell_type": "code",
   "execution_count": 101,
   "metadata": {
    "collapsed": false,
    "scrolled": true
   },
   "outputs": [
    {
     "data": {
      "text/plain": [
       "1967-01-01   -1.1875\n",
       "1967-01-02   -2.1750\n",
       "1967-01-03   -3.0400\n",
       "1967-01-04   -4.1850\n",
       "1967-01-05   -3.9500\n",
       "1967-01-06   -4.3400\n",
       "1967-01-07   -5.4000\n",
       "1967-01-08   -4.1550\n",
       "1967-01-09   -1.5350\n",
       "1967-01-10   -3.3050\n",
       "1967-01-11   -0.8000\n",
       "1967-01-12   -3.0850\n",
       "1967-01-13   -0.8100\n",
       "1967-01-14   -3.7100\n",
       "1967-01-15   -4.7200\n",
       "1967-01-16   -2.8450\n",
       "1967-01-17   -3.8125\n",
       "1967-01-18   -3.0800\n",
       "1967-01-19   -1.9750\n",
       "1967-01-20   -1.4000\n",
       "1967-01-21   -1.7375\n",
       "1967-01-22   -2.8750\n",
       "1967-01-23   -0.9750\n",
       "1967-01-24   -4.2375\n",
       "1967-01-25   -3.1750\n",
       "1967-01-26   -3.1250\n",
       "1967-01-27   -4.3375\n",
       "1967-01-28   -4.1875\n",
       "1967-01-29   -2.4125\n",
       "1967-01-30   -1.9125\n",
       "               ...  \n",
       "2016-03-02       NaN\n",
       "2016-03-03       NaN\n",
       "2016-03-04       NaN\n",
       "2016-03-05       NaN\n",
       "2016-03-06       NaN\n",
       "2016-03-07       NaN\n",
       "2016-03-08       NaN\n",
       "2016-03-09       NaN\n",
       "2016-03-10       NaN\n",
       "2016-03-11       NaN\n",
       "2016-03-12       NaN\n",
       "2016-03-13       NaN\n",
       "2016-03-14       NaN\n",
       "2016-03-15       NaN\n",
       "2016-03-16       NaN\n",
       "2016-03-17       NaN\n",
       "2016-03-18       NaN\n",
       "2016-03-19       NaN\n",
       "2016-03-20       NaN\n",
       "2016-03-21       NaN\n",
       "2016-03-22       NaN\n",
       "2016-03-23       NaN\n",
       "2016-03-24       NaN\n",
       "2016-03-25       NaN\n",
       "2016-03-26       NaN\n",
       "2016-03-27       NaN\n",
       "2016-03-28       NaN\n",
       "2016-03-29       NaN\n",
       "2016-03-30       NaN\n",
       "2016-03-31       NaN\n",
       "Freq: D, Name: MEAN, dtype: float64"
      ]
     },
     "execution_count": 101,
     "metadata": {},
     "output_type": "execute_result"
    }
   ],
   "source": [
    "climat = df['MEAN'] - Dago_95[df['MEAN'].index.dayofyear].values# climatology computation"
   ]
  },
  {
   "cell_type": "code",
   "execution_count": 162,
   "metadata": {
    "collapsed": false
   },
   "outputs": [
    {
     "data": {
      "text/plain": [
       "DatetimeIndex(['1967-03-26', '1967-05-24', '1967-12-27', '1969-04-28',\n",
       "               '1969-04-30', '1969-05-02', '1969-09-02', '1969-10-12',\n",
       "               '1969-10-14', '1969-10-17',\n",
       "               ...\n",
       "               '2015-11-02', '2015-11-23', '2015-12-01', '2015-12-04',\n",
       "               '2015-12-05', '2015-12-06', '2015-12-07', '2015-12-08',\n",
       "               '2015-12-09', '2015-12-10'],\n",
       "              dtype='datetime64[ns]', length=1048, freq=None)"
      ]
     },
     "execution_count": 162,
     "metadata": {},
     "output_type": "execute_result"
    }
   ],
   "source": [
    "df['MEAN'][df['MEAN'] > Dago_95[df['MEAN'].index.dayofyear].values].index # the days which exceed heatwave threshold"
   ]
  },
  {
   "cell_type": "code",
   "execution_count": null,
   "metadata": {
    "collapsed": true
   },
   "outputs": [],
   "source": [
    "# to make the composites on these days \n",
    "# import the dataset, for example olr\n",
    "# make sure it's indexed by time \n",
    "# olr[date=index].mean().plot()"
   ]
  },
  {
   "cell_type": "code",
   "execution_count": 106,
   "metadata": {
    "collapsed": false
   },
   "outputs": [
    {
     "data": {
      "text/plain": [
       "array(['DJF', 'DJF', 'DJF', ..., 'MAM', 'MAM', 'MAM'], dtype=object)"
      ]
     },
     "execution_count": 106,
     "metadata": {},
     "output_type": "execute_result"
    }
   ],
   "source": [
    "grp_ary"
   ]
  },
  {
   "cell_type": "code",
   "execution_count": 109,
   "metadata": {
    "collapsed": false
   },
   "outputs": [
    {
     "data": {
      "text/plain": [
       "array([None, 'DJF', 'DJF', 'MAM', 'MAM', 'MAM', 'JJA', 'JJA', 'JJA', 'SON',\n",
       "       'SON', 'SON', 'DJF'], dtype=object)"
      ]
     },
     "execution_count": 109,
     "metadata": {},
     "output_type": "execute_result"
    }
   ],
   "source": [
    "month_to_season_lu"
   ]
  },
  {
   "cell_type": "code",
   "execution_count": 141,
   "metadata": {
    "collapsed": false
   },
   "outputs": [
    {
     "data": {
      "text/html": [
       "<div>\n",
       "<table border=\"1\" class=\"dataframe\">\n",
       "  <thead>\n",
       "    <tr style=\"text-align: right;\">\n",
       "      <th></th>\n",
       "      <th>MAX</th>\n",
       "      <th>MIN</th>\n",
       "      <th>MEAN</th>\n",
       "    </tr>\n",
       "  </thead>\n",
       "  <tbody>\n",
       "    <tr>\n",
       "      <th>1967-12-01</th>\n",
       "      <td>22.8</td>\n",
       "      <td>11.5</td>\n",
       "      <td>17.15</td>\n",
       "    </tr>\n",
       "    <tr>\n",
       "      <th>1967-12-02</th>\n",
       "      <td>23.6</td>\n",
       "      <td>13.8</td>\n",
       "      <td>18.70</td>\n",
       "    </tr>\n",
       "    <tr>\n",
       "      <th>1967-12-03</th>\n",
       "      <td>22.0</td>\n",
       "      <td>14.0</td>\n",
       "      <td>18.00</td>\n",
       "    </tr>\n",
       "    <tr>\n",
       "      <th>1967-12-04</th>\n",
       "      <td>23.8</td>\n",
       "      <td>14.4</td>\n",
       "      <td>19.10</td>\n",
       "    </tr>\n",
       "    <tr>\n",
       "      <th>1967-12-05</th>\n",
       "      <td>23.0</td>\n",
       "      <td>14.0</td>\n",
       "      <td>18.50</td>\n",
       "    </tr>\n",
       "    <tr>\n",
       "      <th>1967-12-06</th>\n",
       "      <td>22.0</td>\n",
       "      <td>14.3</td>\n",
       "      <td>18.15</td>\n",
       "    </tr>\n",
       "    <tr>\n",
       "      <th>1967-12-07</th>\n",
       "      <td>23.3</td>\n",
       "      <td>14.1</td>\n",
       "      <td>18.70</td>\n",
       "    </tr>\n",
       "    <tr>\n",
       "      <th>1967-12-08</th>\n",
       "      <td>23.6</td>\n",
       "      <td>12.5</td>\n",
       "      <td>18.05</td>\n",
       "    </tr>\n",
       "    <tr>\n",
       "      <th>1967-12-09</th>\n",
       "      <td>23.8</td>\n",
       "      <td>12.5</td>\n",
       "      <td>18.15</td>\n",
       "    </tr>\n",
       "    <tr>\n",
       "      <th>1967-12-10</th>\n",
       "      <td>23.5</td>\n",
       "      <td>13.6</td>\n",
       "      <td>18.55</td>\n",
       "    </tr>\n",
       "    <tr>\n",
       "      <th>1967-12-11</th>\n",
       "      <td>24.2</td>\n",
       "      <td>12.5</td>\n",
       "      <td>18.35</td>\n",
       "    </tr>\n",
       "    <tr>\n",
       "      <th>1967-12-12</th>\n",
       "      <td>25.0</td>\n",
       "      <td>13.4</td>\n",
       "      <td>19.20</td>\n",
       "    </tr>\n",
       "    <tr>\n",
       "      <th>1967-12-13</th>\n",
       "      <td>23.3</td>\n",
       "      <td>11.3</td>\n",
       "      <td>17.30</td>\n",
       "    </tr>\n",
       "    <tr>\n",
       "      <th>1967-12-14</th>\n",
       "      <td>22.8</td>\n",
       "      <td>12.7</td>\n",
       "      <td>17.75</td>\n",
       "    </tr>\n",
       "    <tr>\n",
       "      <th>1967-12-15</th>\n",
       "      <td>23.1</td>\n",
       "      <td>13.2</td>\n",
       "      <td>18.15</td>\n",
       "    </tr>\n",
       "    <tr>\n",
       "      <th>1967-12-16</th>\n",
       "      <td>22.6</td>\n",
       "      <td>13.5</td>\n",
       "      <td>18.05</td>\n",
       "    </tr>\n",
       "    <tr>\n",
       "      <th>1967-12-17</th>\n",
       "      <td>23.3</td>\n",
       "      <td>11.4</td>\n",
       "      <td>17.35</td>\n",
       "    </tr>\n",
       "    <tr>\n",
       "      <th>1967-12-18</th>\n",
       "      <td>23.5</td>\n",
       "      <td>12.8</td>\n",
       "      <td>18.15</td>\n",
       "    </tr>\n",
       "    <tr>\n",
       "      <th>1967-12-19</th>\n",
       "      <td>24.4</td>\n",
       "      <td>9.6</td>\n",
       "      <td>17.00</td>\n",
       "    </tr>\n",
       "    <tr>\n",
       "      <th>1967-12-20</th>\n",
       "      <td>25.2</td>\n",
       "      <td>8.0</td>\n",
       "      <td>16.60</td>\n",
       "    </tr>\n",
       "    <tr>\n",
       "      <th>1967-12-21</th>\n",
       "      <td>24.8</td>\n",
       "      <td>8.9</td>\n",
       "      <td>16.85</td>\n",
       "    </tr>\n",
       "    <tr>\n",
       "      <th>1967-12-22</th>\n",
       "      <td>25.0</td>\n",
       "      <td>14.6</td>\n",
       "      <td>19.80</td>\n",
       "    </tr>\n",
       "    <tr>\n",
       "      <th>1967-12-23</th>\n",
       "      <td>25.1</td>\n",
       "      <td>13.7</td>\n",
       "      <td>19.40</td>\n",
       "    </tr>\n",
       "    <tr>\n",
       "      <th>1967-12-24</th>\n",
       "      <td>25.5</td>\n",
       "      <td>12.8</td>\n",
       "      <td>19.15</td>\n",
       "    </tr>\n",
       "    <tr>\n",
       "      <th>1967-12-25</th>\n",
       "      <td>25.4</td>\n",
       "      <td>8.8</td>\n",
       "      <td>17.10</td>\n",
       "    </tr>\n",
       "    <tr>\n",
       "      <th>1967-12-26</th>\n",
       "      <td>25.8</td>\n",
       "      <td>8.8</td>\n",
       "      <td>17.30</td>\n",
       "    </tr>\n",
       "    <tr>\n",
       "      <th>1967-12-27</th>\n",
       "      <td>25.2</td>\n",
       "      <td>14.0</td>\n",
       "      <td>19.60</td>\n",
       "    </tr>\n",
       "    <tr>\n",
       "      <th>1967-12-28</th>\n",
       "      <td>25.7</td>\n",
       "      <td>13.7</td>\n",
       "      <td>19.70</td>\n",
       "    </tr>\n",
       "    <tr>\n",
       "      <th>1967-12-29</th>\n",
       "      <td>24.5</td>\n",
       "      <td>13.2</td>\n",
       "      <td>18.85</td>\n",
       "    </tr>\n",
       "    <tr>\n",
       "      <th>1967-12-30</th>\n",
       "      <td>24.6</td>\n",
       "      <td>8.5</td>\n",
       "      <td>16.55</td>\n",
       "    </tr>\n",
       "    <tr>\n",
       "      <th>...</th>\n",
       "      <td>...</td>\n",
       "      <td>...</td>\n",
       "      <td>...</td>\n",
       "    </tr>\n",
       "    <tr>\n",
       "      <th>2015-12-02</th>\n",
       "      <td>22.1</td>\n",
       "      <td>15.6</td>\n",
       "      <td>18.85</td>\n",
       "    </tr>\n",
       "    <tr>\n",
       "      <th>2015-12-03</th>\n",
       "      <td>22.8</td>\n",
       "      <td>15.9</td>\n",
       "      <td>19.35</td>\n",
       "    </tr>\n",
       "    <tr>\n",
       "      <th>2015-12-04</th>\n",
       "      <td>24.5</td>\n",
       "      <td>16.1</td>\n",
       "      <td>20.30</td>\n",
       "    </tr>\n",
       "    <tr>\n",
       "      <th>2015-12-05</th>\n",
       "      <td>25.5</td>\n",
       "      <td>17.0</td>\n",
       "      <td>21.25</td>\n",
       "    </tr>\n",
       "    <tr>\n",
       "      <th>2015-12-06</th>\n",
       "      <td>24.6</td>\n",
       "      <td>16.6</td>\n",
       "      <td>20.60</td>\n",
       "    </tr>\n",
       "    <tr>\n",
       "      <th>2015-12-07</th>\n",
       "      <td>24.8</td>\n",
       "      <td>16.6</td>\n",
       "      <td>20.70</td>\n",
       "    </tr>\n",
       "    <tr>\n",
       "      <th>2015-12-08</th>\n",
       "      <td>25.0</td>\n",
       "      <td>16.4</td>\n",
       "      <td>20.70</td>\n",
       "    </tr>\n",
       "    <tr>\n",
       "      <th>2015-12-09</th>\n",
       "      <td>25.4</td>\n",
       "      <td>15.8</td>\n",
       "      <td>20.60</td>\n",
       "    </tr>\n",
       "    <tr>\n",
       "      <th>2015-12-10</th>\n",
       "      <td>25.5</td>\n",
       "      <td>16.2</td>\n",
       "      <td>20.85</td>\n",
       "    </tr>\n",
       "    <tr>\n",
       "      <th>2015-12-11</th>\n",
       "      <td>23.8</td>\n",
       "      <td>16.7</td>\n",
       "      <td>20.25</td>\n",
       "    </tr>\n",
       "    <tr>\n",
       "      <th>2015-12-12</th>\n",
       "      <td>24.6</td>\n",
       "      <td>15.5</td>\n",
       "      <td>20.05</td>\n",
       "    </tr>\n",
       "    <tr>\n",
       "      <th>2015-12-13</th>\n",
       "      <td>NaN</td>\n",
       "      <td>14.9</td>\n",
       "      <td>NaN</td>\n",
       "    </tr>\n",
       "    <tr>\n",
       "      <th>2015-12-14</th>\n",
       "      <td>NaN</td>\n",
       "      <td>15.4</td>\n",
       "      <td>NaN</td>\n",
       "    </tr>\n",
       "    <tr>\n",
       "      <th>2015-12-15</th>\n",
       "      <td>NaN</td>\n",
       "      <td>14.8</td>\n",
       "      <td>NaN</td>\n",
       "    </tr>\n",
       "    <tr>\n",
       "      <th>2015-12-16</th>\n",
       "      <td>NaN</td>\n",
       "      <td>14.9</td>\n",
       "      <td>NaN</td>\n",
       "    </tr>\n",
       "    <tr>\n",
       "      <th>2015-12-17</th>\n",
       "      <td>NaN</td>\n",
       "      <td>16.3</td>\n",
       "      <td>NaN</td>\n",
       "    </tr>\n",
       "    <tr>\n",
       "      <th>2015-12-18</th>\n",
       "      <td>NaN</td>\n",
       "      <td>14.5</td>\n",
       "      <td>NaN</td>\n",
       "    </tr>\n",
       "    <tr>\n",
       "      <th>2015-12-19</th>\n",
       "      <td>NaN</td>\n",
       "      <td>18.5</td>\n",
       "      <td>NaN</td>\n",
       "    </tr>\n",
       "    <tr>\n",
       "      <th>2015-12-20</th>\n",
       "      <td>NaN</td>\n",
       "      <td>15.4</td>\n",
       "      <td>NaN</td>\n",
       "    </tr>\n",
       "    <tr>\n",
       "      <th>2015-12-21</th>\n",
       "      <td>NaN</td>\n",
       "      <td>15.5</td>\n",
       "      <td>NaN</td>\n",
       "    </tr>\n",
       "    <tr>\n",
       "      <th>2015-12-22</th>\n",
       "      <td>NaN</td>\n",
       "      <td>15.3</td>\n",
       "      <td>NaN</td>\n",
       "    </tr>\n",
       "    <tr>\n",
       "      <th>2015-12-23</th>\n",
       "      <td>NaN</td>\n",
       "      <td>12.8</td>\n",
       "      <td>NaN</td>\n",
       "    </tr>\n",
       "    <tr>\n",
       "      <th>2015-12-24</th>\n",
       "      <td>NaN</td>\n",
       "      <td>14.3</td>\n",
       "      <td>NaN</td>\n",
       "    </tr>\n",
       "    <tr>\n",
       "      <th>2015-12-25</th>\n",
       "      <td>NaN</td>\n",
       "      <td>15.4</td>\n",
       "      <td>NaN</td>\n",
       "    </tr>\n",
       "    <tr>\n",
       "      <th>2015-12-26</th>\n",
       "      <td>NaN</td>\n",
       "      <td>16.0</td>\n",
       "      <td>NaN</td>\n",
       "    </tr>\n",
       "    <tr>\n",
       "      <th>2015-12-27</th>\n",
       "      <td>NaN</td>\n",
       "      <td>15.5</td>\n",
       "      <td>NaN</td>\n",
       "    </tr>\n",
       "    <tr>\n",
       "      <th>2015-12-28</th>\n",
       "      <td>NaN</td>\n",
       "      <td>14.8</td>\n",
       "      <td>NaN</td>\n",
       "    </tr>\n",
       "    <tr>\n",
       "      <th>2015-12-29</th>\n",
       "      <td>NaN</td>\n",
       "      <td>15.1</td>\n",
       "      <td>NaN</td>\n",
       "    </tr>\n",
       "    <tr>\n",
       "      <th>2015-12-30</th>\n",
       "      <td>NaN</td>\n",
       "      <td>12.0</td>\n",
       "      <td>NaN</td>\n",
       "    </tr>\n",
       "    <tr>\n",
       "      <th>2015-12-31</th>\n",
       "      <td>NaN</td>\n",
       "      <td>16.0</td>\n",
       "      <td>NaN</td>\n",
       "    </tr>\n",
       "  </tbody>\n",
       "</table>\n",
       "<p>1519 rows × 3 columns</p>\n",
       "</div>"
      ],
      "text/plain": [
       "             MAX   MIN   MEAN\n",
       "1967-12-01  22.8  11.5  17.15\n",
       "1967-12-02  23.6  13.8  18.70\n",
       "1967-12-03  22.0  14.0  18.00\n",
       "1967-12-04  23.8  14.4  19.10\n",
       "1967-12-05  23.0  14.0  18.50\n",
       "1967-12-06  22.0  14.3  18.15\n",
       "1967-12-07  23.3  14.1  18.70\n",
       "1967-12-08  23.6  12.5  18.05\n",
       "1967-12-09  23.8  12.5  18.15\n",
       "1967-12-10  23.5  13.6  18.55\n",
       "1967-12-11  24.2  12.5  18.35\n",
       "1967-12-12  25.0  13.4  19.20\n",
       "1967-12-13  23.3  11.3  17.30\n",
       "1967-12-14  22.8  12.7  17.75\n",
       "1967-12-15  23.1  13.2  18.15\n",
       "1967-12-16  22.6  13.5  18.05\n",
       "1967-12-17  23.3  11.4  17.35\n",
       "1967-12-18  23.5  12.8  18.15\n",
       "1967-12-19  24.4   9.6  17.00\n",
       "1967-12-20  25.2   8.0  16.60\n",
       "1967-12-21  24.8   8.9  16.85\n",
       "1967-12-22  25.0  14.6  19.80\n",
       "1967-12-23  25.1  13.7  19.40\n",
       "1967-12-24  25.5  12.8  19.15\n",
       "1967-12-25  25.4   8.8  17.10\n",
       "1967-12-26  25.8   8.8  17.30\n",
       "1967-12-27  25.2  14.0  19.60\n",
       "1967-12-28  25.7  13.7  19.70\n",
       "1967-12-29  24.5  13.2  18.85\n",
       "1967-12-30  24.6   8.5  16.55\n",
       "...          ...   ...    ...\n",
       "2015-12-02  22.1  15.6  18.85\n",
       "2015-12-03  22.8  15.9  19.35\n",
       "2015-12-04  24.5  16.1  20.30\n",
       "2015-12-05  25.5  17.0  21.25\n",
       "2015-12-06  24.6  16.6  20.60\n",
       "2015-12-07  24.8  16.6  20.70\n",
       "2015-12-08  25.0  16.4  20.70\n",
       "2015-12-09  25.4  15.8  20.60\n",
       "2015-12-10  25.5  16.2  20.85\n",
       "2015-12-11  23.8  16.7  20.25\n",
       "2015-12-12  24.6  15.5  20.05\n",
       "2015-12-13   NaN  14.9    NaN\n",
       "2015-12-14   NaN  15.4    NaN\n",
       "2015-12-15   NaN  14.8    NaN\n",
       "2015-12-16   NaN  14.9    NaN\n",
       "2015-12-17   NaN  16.3    NaN\n",
       "2015-12-18   NaN  14.5    NaN\n",
       "2015-12-19   NaN  18.5    NaN\n",
       "2015-12-20   NaN  15.4    NaN\n",
       "2015-12-21   NaN  15.5    NaN\n",
       "2015-12-22   NaN  15.3    NaN\n",
       "2015-12-23   NaN  12.8    NaN\n",
       "2015-12-24   NaN  14.3    NaN\n",
       "2015-12-25   NaN  15.4    NaN\n",
       "2015-12-26   NaN  16.0    NaN\n",
       "2015-12-27   NaN  15.5    NaN\n",
       "2015-12-28   NaN  14.8    NaN\n",
       "2015-12-29   NaN  15.1    NaN\n",
       "2015-12-30   NaN  12.0    NaN\n",
       "2015-12-31   NaN  16.0    NaN\n",
       "\n",
       "[1519 rows x 3 columns]"
      ]
     },
     "execution_count": 141,
     "metadata": {},
     "output_type": "execute_result"
    }
   ],
   "source": [
    "df[12== df.index.month]"
   ]
  },
  {
   "cell_type": "code",
   "execution_count": 11,
   "metadata": {
    "collapsed": false
   },
   "outputs": [],
   "source": [
    "import matplotlib.pyplot as plt\n",
    "#df['season'] = df.index.quarter"
   ]
  },
  {
   "cell_type": "code",
   "execution_count": 12,
   "metadata": {
    "collapsed": false
   },
   "outputs": [
    {
     "ename": "NameError",
     "evalue": "name 'df' is not defined",
     "output_type": "error",
     "traceback": [
      "\u001b[0;31m---------------------------------------------------------------------------\u001b[0m",
      "\u001b[0;31mNameError\u001b[0m                                 Traceback (most recent call last)",
      "\u001b[0;32m<ipython-input-12-125f1f7afdc6>\u001b[0m in \u001b[0;36m<module>\u001b[0;34m()\u001b[0m\n\u001b[0;32m----> 1\u001b[0;31m \u001b[0mdf\u001b[0m\u001b[0;34m.\u001b[0m\u001b[0mindex\u001b[0m\u001b[0;34m.\u001b[0m\u001b[0mquarter\u001b[0m\u001b[0;34m\u001b[0m\u001b[0m\n\u001b[0m",
      "\u001b[0;31mNameError\u001b[0m: name 'df' is not defined"
     ]
    }
   ],
   "source": [
    "df.index.quarter"
   ]
  },
  {
   "cell_type": "code",
   "execution_count": 152,
   "metadata": {
    "collapsed": false
   },
   "outputs": [
    {
     "data": {
      "text/html": [
       "<div>\n",
       "<table border=\"1\" class=\"dataframe\">\n",
       "  <thead>\n",
       "    <tr style=\"text-align: right;\">\n",
       "      <th></th>\n",
       "      <th>MAX</th>\n",
       "      <th>MIN</th>\n",
       "      <th>MEAN</th>\n",
       "    </tr>\n",
       "  </thead>\n",
       "  <tbody>\n",
       "    <tr>\n",
       "      <th>1967-01-01</th>\n",
       "      <td>26.4</td>\n",
       "      <td>11.8</td>\n",
       "      <td>19.10</td>\n",
       "    </tr>\n",
       "    <tr>\n",
       "      <th>1967-01-02</th>\n",
       "      <td>26.0</td>\n",
       "      <td>10.7</td>\n",
       "      <td>18.35</td>\n",
       "    </tr>\n",
       "    <tr>\n",
       "      <th>1967-01-03</th>\n",
       "      <td>26.2</td>\n",
       "      <td>8.3</td>\n",
       "      <td>17.25</td>\n",
       "    </tr>\n",
       "    <tr>\n",
       "      <th>1967-01-04</th>\n",
       "      <td>26.1</td>\n",
       "      <td>6.4</td>\n",
       "      <td>16.25</td>\n",
       "    </tr>\n",
       "    <tr>\n",
       "      <th>1967-01-05</th>\n",
       "      <td>26.4</td>\n",
       "      <td>6.5</td>\n",
       "      <td>16.45</td>\n",
       "    </tr>\n",
       "    <tr>\n",
       "      <th>1967-01-06</th>\n",
       "      <td>25.7</td>\n",
       "      <td>6.4</td>\n",
       "      <td>16.05</td>\n",
       "    </tr>\n",
       "    <tr>\n",
       "      <th>1967-01-07</th>\n",
       "      <td>25.3</td>\n",
       "      <td>4.8</td>\n",
       "      <td>15.05</td>\n",
       "    </tr>\n",
       "    <tr>\n",
       "      <th>1967-01-08</th>\n",
       "      <td>25.9</td>\n",
       "      <td>7.0</td>\n",
       "      <td>16.45</td>\n",
       "    </tr>\n",
       "    <tr>\n",
       "      <th>1967-01-09</th>\n",
       "      <td>27.0</td>\n",
       "      <td>10.8</td>\n",
       "      <td>18.90</td>\n",
       "    </tr>\n",
       "    <tr>\n",
       "      <th>1967-01-10</th>\n",
       "      <td>27.2</td>\n",
       "      <td>8.5</td>\n",
       "      <td>17.85</td>\n",
       "    </tr>\n",
       "    <tr>\n",
       "      <th>1967-01-11</th>\n",
       "      <td>27.6</td>\n",
       "      <td>12.5</td>\n",
       "      <td>20.05</td>\n",
       "    </tr>\n",
       "    <tr>\n",
       "      <th>1967-01-12</th>\n",
       "      <td>27.5</td>\n",
       "      <td>7.8</td>\n",
       "      <td>17.65</td>\n",
       "    </tr>\n",
       "    <tr>\n",
       "      <th>1967-01-13</th>\n",
       "      <td>25.9</td>\n",
       "      <td>14.2</td>\n",
       "      <td>20.05</td>\n",
       "    </tr>\n",
       "    <tr>\n",
       "      <th>1967-01-14</th>\n",
       "      <td>26.5</td>\n",
       "      <td>7.4</td>\n",
       "      <td>16.95</td>\n",
       "    </tr>\n",
       "    <tr>\n",
       "      <th>1967-01-15</th>\n",
       "      <td>25.5</td>\n",
       "      <td>6.4</td>\n",
       "      <td>15.95</td>\n",
       "    </tr>\n",
       "    <tr>\n",
       "      <th>1967-01-16</th>\n",
       "      <td>26.0</td>\n",
       "      <td>9.3</td>\n",
       "      <td>17.65</td>\n",
       "    </tr>\n",
       "    <tr>\n",
       "      <th>1967-01-17</th>\n",
       "      <td>26.3</td>\n",
       "      <td>7.0</td>\n",
       "      <td>16.65</td>\n",
       "    </tr>\n",
       "    <tr>\n",
       "      <th>1967-01-18</th>\n",
       "      <td>25.5</td>\n",
       "      <td>9.4</td>\n",
       "      <td>17.45</td>\n",
       "    </tr>\n",
       "    <tr>\n",
       "      <th>1967-01-19</th>\n",
       "      <td>24.4</td>\n",
       "      <td>13.0</td>\n",
       "      <td>18.70</td>\n",
       "    </tr>\n",
       "    <tr>\n",
       "      <th>1967-01-20</th>\n",
       "      <td>24.8</td>\n",
       "      <td>13.5</td>\n",
       "      <td>19.15</td>\n",
       "    </tr>\n",
       "    <tr>\n",
       "      <th>1967-01-21</th>\n",
       "      <td>26.2</td>\n",
       "      <td>11.0</td>\n",
       "      <td>18.60</td>\n",
       "    </tr>\n",
       "    <tr>\n",
       "      <th>1967-01-22</th>\n",
       "      <td>26.0</td>\n",
       "      <td>9.2</td>\n",
       "      <td>17.60</td>\n",
       "    </tr>\n",
       "    <tr>\n",
       "      <th>1967-01-23</th>\n",
       "      <td>26.4</td>\n",
       "      <td>13.8</td>\n",
       "      <td>20.10</td>\n",
       "    </tr>\n",
       "    <tr>\n",
       "      <th>1967-01-24</th>\n",
       "      <td>25.0</td>\n",
       "      <td>8.5</td>\n",
       "      <td>16.75</td>\n",
       "    </tr>\n",
       "    <tr>\n",
       "      <th>1967-01-25</th>\n",
       "      <td>26.3</td>\n",
       "      <td>9.1</td>\n",
       "      <td>17.70</td>\n",
       "    </tr>\n",
       "    <tr>\n",
       "      <th>1967-01-26</th>\n",
       "      <td>27.7</td>\n",
       "      <td>7.5</td>\n",
       "      <td>17.60</td>\n",
       "    </tr>\n",
       "    <tr>\n",
       "      <th>1967-01-27</th>\n",
       "      <td>25.4</td>\n",
       "      <td>7.4</td>\n",
       "      <td>16.40</td>\n",
       "    </tr>\n",
       "    <tr>\n",
       "      <th>1967-01-28</th>\n",
       "      <td>25.1</td>\n",
       "      <td>9.3</td>\n",
       "      <td>17.20</td>\n",
       "    </tr>\n",
       "    <tr>\n",
       "      <th>1967-01-29</th>\n",
       "      <td>25.8</td>\n",
       "      <td>11.7</td>\n",
       "      <td>18.75</td>\n",
       "    </tr>\n",
       "    <tr>\n",
       "      <th>1967-01-30</th>\n",
       "      <td>25.6</td>\n",
       "      <td>12.8</td>\n",
       "      <td>19.20</td>\n",
       "    </tr>\n",
       "    <tr>\n",
       "      <th>...</th>\n",
       "      <td>...</td>\n",
       "      <td>...</td>\n",
       "      <td>...</td>\n",
       "    </tr>\n",
       "    <tr>\n",
       "      <th>2016-01-31</th>\n",
       "      <td>NaN</td>\n",
       "      <td>14.0</td>\n",
       "      <td>NaN</td>\n",
       "    </tr>\n",
       "    <tr>\n",
       "      <th>2016-02-01</th>\n",
       "      <td>NaN</td>\n",
       "      <td>14.5</td>\n",
       "      <td>NaN</td>\n",
       "    </tr>\n",
       "    <tr>\n",
       "      <th>2016-02-02</th>\n",
       "      <td>NaN</td>\n",
       "      <td>11.5</td>\n",
       "      <td>NaN</td>\n",
       "    </tr>\n",
       "    <tr>\n",
       "      <th>2016-02-03</th>\n",
       "      <td>NaN</td>\n",
       "      <td>11.6</td>\n",
       "      <td>NaN</td>\n",
       "    </tr>\n",
       "    <tr>\n",
       "      <th>2016-02-04</th>\n",
       "      <td>NaN</td>\n",
       "      <td>13.3</td>\n",
       "      <td>NaN</td>\n",
       "    </tr>\n",
       "    <tr>\n",
       "      <th>2016-02-05</th>\n",
       "      <td>NaN</td>\n",
       "      <td>11.3</td>\n",
       "      <td>NaN</td>\n",
       "    </tr>\n",
       "    <tr>\n",
       "      <th>2016-02-06</th>\n",
       "      <td>NaN</td>\n",
       "      <td>15.5</td>\n",
       "      <td>NaN</td>\n",
       "    </tr>\n",
       "    <tr>\n",
       "      <th>2016-02-07</th>\n",
       "      <td>NaN</td>\n",
       "      <td>16.5</td>\n",
       "      <td>NaN</td>\n",
       "    </tr>\n",
       "    <tr>\n",
       "      <th>2016-02-08</th>\n",
       "      <td>NaN</td>\n",
       "      <td>17.3</td>\n",
       "      <td>NaN</td>\n",
       "    </tr>\n",
       "    <tr>\n",
       "      <th>2016-02-09</th>\n",
       "      <td>NaN</td>\n",
       "      <td>14.1</td>\n",
       "      <td>NaN</td>\n",
       "    </tr>\n",
       "    <tr>\n",
       "      <th>2016-02-10</th>\n",
       "      <td>NaN</td>\n",
       "      <td>15.4</td>\n",
       "      <td>NaN</td>\n",
       "    </tr>\n",
       "    <tr>\n",
       "      <th>2016-02-11</th>\n",
       "      <td>NaN</td>\n",
       "      <td>14.9</td>\n",
       "      <td>NaN</td>\n",
       "    </tr>\n",
       "    <tr>\n",
       "      <th>2016-02-12</th>\n",
       "      <td>NaN</td>\n",
       "      <td>16.2</td>\n",
       "      <td>NaN</td>\n",
       "    </tr>\n",
       "    <tr>\n",
       "      <th>2016-02-13</th>\n",
       "      <td>NaN</td>\n",
       "      <td>16.0</td>\n",
       "      <td>NaN</td>\n",
       "    </tr>\n",
       "    <tr>\n",
       "      <th>2016-02-14</th>\n",
       "      <td>NaN</td>\n",
       "      <td>11.5</td>\n",
       "      <td>NaN</td>\n",
       "    </tr>\n",
       "    <tr>\n",
       "      <th>2016-02-15</th>\n",
       "      <td>NaN</td>\n",
       "      <td>11.7</td>\n",
       "      <td>NaN</td>\n",
       "    </tr>\n",
       "    <tr>\n",
       "      <th>2016-02-16</th>\n",
       "      <td>NaN</td>\n",
       "      <td>11.7</td>\n",
       "      <td>NaN</td>\n",
       "    </tr>\n",
       "    <tr>\n",
       "      <th>2016-02-17</th>\n",
       "      <td>NaN</td>\n",
       "      <td>15.6</td>\n",
       "      <td>NaN</td>\n",
       "    </tr>\n",
       "    <tr>\n",
       "      <th>2016-02-18</th>\n",
       "      <td>NaN</td>\n",
       "      <td>16.2</td>\n",
       "      <td>NaN</td>\n",
       "    </tr>\n",
       "    <tr>\n",
       "      <th>2016-02-19</th>\n",
       "      <td>NaN</td>\n",
       "      <td>15.5</td>\n",
       "      <td>NaN</td>\n",
       "    </tr>\n",
       "    <tr>\n",
       "      <th>2016-02-20</th>\n",
       "      <td>NaN</td>\n",
       "      <td>16.5</td>\n",
       "      <td>NaN</td>\n",
       "    </tr>\n",
       "    <tr>\n",
       "      <th>2016-02-21</th>\n",
       "      <td>NaN</td>\n",
       "      <td>13.8</td>\n",
       "      <td>NaN</td>\n",
       "    </tr>\n",
       "    <tr>\n",
       "      <th>2016-02-22</th>\n",
       "      <td>NaN</td>\n",
       "      <td>10.8</td>\n",
       "      <td>NaN</td>\n",
       "    </tr>\n",
       "    <tr>\n",
       "      <th>2016-02-23</th>\n",
       "      <td>NaN</td>\n",
       "      <td>12.4</td>\n",
       "      <td>NaN</td>\n",
       "    </tr>\n",
       "    <tr>\n",
       "      <th>2016-02-24</th>\n",
       "      <td>NaN</td>\n",
       "      <td>14.1</td>\n",
       "      <td>NaN</td>\n",
       "    </tr>\n",
       "    <tr>\n",
       "      <th>2016-02-25</th>\n",
       "      <td>NaN</td>\n",
       "      <td>16.4</td>\n",
       "      <td>NaN</td>\n",
       "    </tr>\n",
       "    <tr>\n",
       "      <th>2016-02-26</th>\n",
       "      <td>NaN</td>\n",
       "      <td>17.3</td>\n",
       "      <td>NaN</td>\n",
       "    </tr>\n",
       "    <tr>\n",
       "      <th>2016-02-27</th>\n",
       "      <td>NaN</td>\n",
       "      <td>14.8</td>\n",
       "      <td>NaN</td>\n",
       "    </tr>\n",
       "    <tr>\n",
       "      <th>2016-02-28</th>\n",
       "      <td>NaN</td>\n",
       "      <td>16.1</td>\n",
       "      <td>NaN</td>\n",
       "    </tr>\n",
       "    <tr>\n",
       "      <th>2016-02-29</th>\n",
       "      <td>NaN</td>\n",
       "      <td>17.1</td>\n",
       "      <td>NaN</td>\n",
       "    </tr>\n",
       "  </tbody>\n",
       "</table>\n",
       "<p>4482 rows × 3 columns</p>\n",
       "</div>"
      ],
      "text/plain": [
       "             MAX   MIN   MEAN\n",
       "1967-01-01  26.4  11.8  19.10\n",
       "1967-01-02  26.0  10.7  18.35\n",
       "1967-01-03  26.2   8.3  17.25\n",
       "1967-01-04  26.1   6.4  16.25\n",
       "1967-01-05  26.4   6.5  16.45\n",
       "1967-01-06  25.7   6.4  16.05\n",
       "1967-01-07  25.3   4.8  15.05\n",
       "1967-01-08  25.9   7.0  16.45\n",
       "1967-01-09  27.0  10.8  18.90\n",
       "1967-01-10  27.2   8.5  17.85\n",
       "1967-01-11  27.6  12.5  20.05\n",
       "1967-01-12  27.5   7.8  17.65\n",
       "1967-01-13  25.9  14.2  20.05\n",
       "1967-01-14  26.5   7.4  16.95\n",
       "1967-01-15  25.5   6.4  15.95\n",
       "1967-01-16  26.0   9.3  17.65\n",
       "1967-01-17  26.3   7.0  16.65\n",
       "1967-01-18  25.5   9.4  17.45\n",
       "1967-01-19  24.4  13.0  18.70\n",
       "1967-01-20  24.8  13.5  19.15\n",
       "1967-01-21  26.2  11.0  18.60\n",
       "1967-01-22  26.0   9.2  17.60\n",
       "1967-01-23  26.4  13.8  20.10\n",
       "1967-01-24  25.0   8.5  16.75\n",
       "1967-01-25  26.3   9.1  17.70\n",
       "1967-01-26  27.7   7.5  17.60\n",
       "1967-01-27  25.4   7.4  16.40\n",
       "1967-01-28  25.1   9.3  17.20\n",
       "1967-01-29  25.8  11.7  18.75\n",
       "1967-01-30  25.6  12.8  19.20\n",
       "...          ...   ...    ...\n",
       "2016-01-31   NaN  14.0    NaN\n",
       "2016-02-01   NaN  14.5    NaN\n",
       "2016-02-02   NaN  11.5    NaN\n",
       "2016-02-03   NaN  11.6    NaN\n",
       "2016-02-04   NaN  13.3    NaN\n",
       "2016-02-05   NaN  11.3    NaN\n",
       "2016-02-06   NaN  15.5    NaN\n",
       "2016-02-07   NaN  16.5    NaN\n",
       "2016-02-08   NaN  17.3    NaN\n",
       "2016-02-09   NaN  14.1    NaN\n",
       "2016-02-10   NaN  15.4    NaN\n",
       "2016-02-11   NaN  14.9    NaN\n",
       "2016-02-12   NaN  16.2    NaN\n",
       "2016-02-13   NaN  16.0    NaN\n",
       "2016-02-14   NaN  11.5    NaN\n",
       "2016-02-15   NaN  11.7    NaN\n",
       "2016-02-16   NaN  11.7    NaN\n",
       "2016-02-17   NaN  15.6    NaN\n",
       "2016-02-18   NaN  16.2    NaN\n",
       "2016-02-19   NaN  15.5    NaN\n",
       "2016-02-20   NaN  16.5    NaN\n",
       "2016-02-21   NaN  13.8    NaN\n",
       "2016-02-22   NaN  10.8    NaN\n",
       "2016-02-23   NaN  12.4    NaN\n",
       "2016-02-24   NaN  14.1    NaN\n",
       "2016-02-25   NaN  16.4    NaN\n",
       "2016-02-26   NaN  17.3    NaN\n",
       "2016-02-27   NaN  14.8    NaN\n",
       "2016-02-28   NaN  16.1    NaN\n",
       "2016-02-29   NaN  17.1    NaN\n",
       "\n",
       "[4482 rows x 3 columns]"
      ]
     },
     "execution_count": 152,
     "metadata": {},
     "output_type": "execute_result"
    }
   ],
   "source": [
    "df[(df.index.month==12) | (df.index.month==1) | (df.index.month==2)]"
   ]
  },
  {
   "cell_type": "code",
   "execution_count": 21,
   "metadata": {
    "collapsed": false
   },
   "outputs": [],
   "source": [
    "test = Dataset('ERA_Interim_sst_1979-2012.nc', \"r\", format=\"NETCDF4\")"
   ]
  },
  {
   "cell_type": "code",
   "execution_count": 22,
   "metadata": {
    "collapsed": false
   },
   "outputs": [
    {
     "data": {
      "text/plain": [
       "<class 'netCDF4._netCDF4.Dataset'>\n",
       "root group (NETCDF3_CLASSIC data model, file format NETCDF3):\n",
       "    Conventions: CF-1.0\n",
       "    history: 2015-10-07 13:35:06 GMT by grib_to_netcdf-1.13.1: grib_to_netcdf /data/data04/scratch/netcdf-atls16-a562cefde8a29a7288fa0b8b7f9413f7-hdWL4S.target -o /data/data04/scratch/netcdf-atls16-a562cefde8a29a7288fa0b8b7f9413f7-B3lYA2.nc -utime\n",
       "    dimensions(sizes): longitude(480), latitude(241), time(3069)\n",
       "    variables(dimensions): float32 \u001b[4mlongitude\u001b[0m(longitude), float32 \u001b[4mlatitude\u001b[0m(latitude), int32 \u001b[4mtime\u001b[0m(time), int16 \u001b[4msst\u001b[0m(time,latitude,longitude)\n",
       "    groups: "
      ]
     },
     "execution_count": 22,
     "metadata": {},
     "output_type": "execute_result"
    }
   ],
   "source": [
    "test"
   ]
  },
  {
   "cell_type": "code",
   "execution_count": 66,
   "metadata": {
    "collapsed": false
   },
   "outputs": [],
   "source": [
    "obs = xr.open_dataset('sst_ERA-Interim_daily_1979-1980.nc', decode_times=True)"
   ]
  },
  {
   "cell_type": "code",
   "execution_count": 70,
   "metadata": {
    "collapsed": false
   },
   "outputs": [],
   "source": [
    "ts_dat = obs['sst'].sel(time=slice('1979-01-01T12:00:00', '1979-12-31T12:00:00'),latitude=0.0,longitude=86.25)\n"
   ]
  },
  {
   "cell_type": "code",
   "execution_count": 71,
   "metadata": {
    "collapsed": false
   },
   "outputs": [
    {
     "data": {
      "text/plain": [
       "[<matplotlib.lines.Line2D at 0xa52f838c>]"
      ]
     },
     "execution_count": 71,
     "metadata": {},
     "output_type": "execute_result"
    },
    {
     "data": {
      "image/png": "[encoded data removed]",
      "text/plain": [
       "<matplotlib.figure.Figure at 0xa5350c2c>"
      ]
     },
     "metadata": {},
     "output_type": "display_data"
    }
   ],
   "source": [
    "ts_dat.plot()"
   ]
  },
  {
   "cell_type": "code",
   "execution_count": 69,
   "metadata": {
    "collapsed": false
   },
   "outputs": [
    {
     "data": {
      "text/plain": [
       "<xarray.DataArray 'sst' (time: 731, latitude: 241, longitude: 480)>\n",
       "[84562080 values with dtype=float64]\n",
       "Coordinates:\n",
       "  * longitude  (longitude) float32 0.0 0.75 1.5 2.25 3.0 3.75 4.5 5.25 6.0 ...\n",
       "  * latitude   (latitude) float32 90.0 89.25 88.5 87.75 87.0 86.25 85.5 ...\n",
       "  * time       (time) datetime64[ns] 1979-01-01T12:00:00 1979-01-02T12:00:00 ...\n",
       "Attributes:\n",
       "    units: K\n",
       "    long_name: Sea surface temperature"
      ]
     },
     "execution_count": 69,
     "metadata": {},
     "output_type": "execute_result"
    }
   ],
   "source": [
    "obs['sst']"
   ]
  },
  {
   "cell_type": "code",
   "execution_count": 55,
   "metadata": {
    "collapsed": false
   },
   "outputs": [
    {
     "data": {
      "text/plain": [
       "<xarray.DataArray 'sst' (time: 13)>\n",
       "array([ nan,  nan,  nan,  nan,  nan,  nan,  nan,  nan,  nan,  nan,  nan,  nan,\n",
       "        nan])\n",
       "Coordinates:\n",
       "    longitude  float32 30.0\n",
       "    latitude   float32 0.0\n",
       "  * time       (time) int32 692508 692532 692556 692580 692604 692628 692652 ...\n",
       "Attributes:\n",
       "    units: K\n",
       "    long_name: Sea surface temperature"
      ]
     },
     "execution_count": 55,
     "metadata": {},
     "output_type": "execute_result"
    }
   ],
   "source": [
    "ts_dat"
   ]
  },
  {
   "cell_type": "code",
   "execution_count": null,
   "metadata": {
    "collapsed": true
   },
   "outputs": [],
   "source": []
  }
 ],
 "metadata": {
  "kernelspec": {
   "display_name": "Python 3",
   "language": "python",
   "name": "python3"
  },
  "language_info": {
   "codemirror_mode": {
    "name": "ipython",
    "version": 3
   },
   "file_extension": ".py",
   "mimetype": "text/x-python",
   "name": "python",
   "nbconvert_exporter": "python",
   "pygments_lexer": "ipython3",
   "version": "3.6.0"
  }
 },
 "nbformat": 4,
 "nbformat_minor": 2
}
